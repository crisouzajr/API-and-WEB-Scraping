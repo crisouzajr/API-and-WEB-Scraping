{
 "cells": [
  {
   "cell_type": "markdown",
   "metadata": {
    "id": "GfnfUdxdTCCB"
   },
   "source": [
    "![493527.jpg](data:image/jpeg;base64,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)\n",
    "\n",
    "# <font color=gree> Extração de Álbuns, Faixa e Features de Artistas no Spotify\n",
    "\n",
    "#### A partir da extração de dados de alguns artistas específicos diretamente do Spotify, algumas inferências serão realizadas de acordo com a característica (FEATURES) contida em cada música desses artistas.\n",
    "\n",
    "#### Dados como popularidade por faixa demonstram quais são as músicas mais escutadas, proporcionando assim a criação de esquemas visuais gráficos por artista.\n",
    "\n",
    "#### Essa API específica das Features de faixas musicais, disponibiliza 15 diferentes atributos por valore (faixa musical), e para maior compreenção do projeto desenvolvido, esses atributos estão explicitados abaixo.\n",
    "\n",
    "### <font color = gree> DESCRIÇÃO DAS SIGLAS DE INFORMAÇÕES E FEATURES DAS FAIXAS.\n",
    "\n",
    "#### ALBUM: Nome do álbum do artista.\n",
    "\n",
    "#### TRACK_NUMBER: Número da faixa do álbum correspondente.\n",
    "\n",
    "#### ID: Identificação da música no Spotify.\n",
    "\n",
    "#### NAME: Nome na faixa.\n",
    "\n",
    "#### URI: Endereço WEB da faixa.\n",
    "\n",
    "#### ACOUSTICNESS: Este valor descreve a quão acústica é uma música. Uma pontuação de 1,0 significa que é mais provável que a música seja acústica.\n",
    "\n",
    "#### DANCEABILITY: “A capacidade de dança descreve o quão adequada uma faixa é para dançar com base em uma combinação de elementos musicais, incluindo tempo, estabilidade do ritmo, força da batida e regularidade geral. Um valor de 0,0 é menos dançável e 1,0 é mais dançante”.\n",
    "\n",
    "#### ENERGY: “Representa uma medida perceptual de intensidade e atividade. Normalmente, faixas energéticas parecem rápidas, altas e barulhentas”.\n",
    "\n",
    "#### INSTRUMENTALNESS: Este valor representa o número de vocais da música. Quanto mais próximo estiver de 1.0, mais instrumental será a música.\n",
    "\n",
    "#### LIVENESS: Este valor descreve a probabilidade de a música ter sido gravada com um público ao vivo. De acordo com a documentação oficial “um valor acima de 0,8 fornece grande probabilidade de a faixa estar ao vivo”.\n",
    "\n",
    "#### LOUDNESS: “É a percepção subjetiva da pressão sonora. Mais formalmente, é definido como, \"Aquele atributo da sensação auditiva em termos dos quais os sons podem ser ordenados em uma escala que vai do baixo ao alto\".\n",
    "\n",
    "#### SPEECHINESS: “A fala detecta a presença de palavras faladas em uma faixa”. Se a fala de uma música estiver acima de 0,66, provavelmente é composta de palavras faladas, uma pontuação entre 0,33 e 0,66 é uma música que pode conter música e palavras e uma pontuação abaixo de 0,33 significa que a música não tem fala.\n",
    "\n",
    "#### TEMPO: Duração da faixa.\n",
    "\n",
    "#### VALENCE: “Uma medida de 0,0 a 1,0 que descreve a positividade musical transmitida por uma faixa. Faixas com alta valência soam mais positivas (por exemplo, feliz, alegre, eufórico), enquanto faixas com baixa valência soam mais negativas (por exemplo, triste, deprimido, com raiva)”.\n",
    "\n",
    "#### POPULARITY: Popularidade e representa a quantidade de vezes que essa música é escutada pelo usuário.\n",
    "\n",
    "\n"
   ]
  },
  {
   "cell_type": "code",
   "execution_count": 1,
   "metadata": {
    "colab": {
     "base_uri": "https://localhost:8080/"
    },
    "id": "L4GNvDfoPuLP",
    "outputId": "d2a3eebd-4eb8-4b9f-96be-9e1a82342661"
   },
   "outputs": [
    {
     "data": {
      "text/plain": [
       "'Esse código é utilizado para baixar os recursos do Spotify via Python. '"
      ]
     },
     "execution_count": 1,
     "metadata": {},
     "output_type": "execute_result"
    }
   ],
   "source": [
    "\"\"\"Esse código é utilizado para baixar os recursos do Spotify via Python. \"\"\"\n",
    "\n",
    "#!pip install spotipy"
   ]
  },
  {
   "cell_type": "code",
   "execution_count": 2,
   "metadata": {
    "id": "Q3Y3y3s6PV4C"
   },
   "outputs": [],
   "source": [
    "\"\"\" Importando as principais bibliotecas que serão utilizadas durante o estudo. \"\"\"\n",
    "\n",
    "import spotipy\n",
    "import requests\n",
    "import json\n",
    "import pandas as pd"
   ]
  },
  {
   "cell_type": "markdown",
   "metadata": {},
   "source": [
    "#### O código abaixo é responsável por carregar as credenciais de usuários uma vez cadastradas como desenvolvedor em <a href=\"https://developer.spotify.com/documentation/web-api/quick-start\">WEB API</a>"
   ]
  },
  {
   "cell_type": "code",
   "execution_count": 3,
   "metadata": {
    "id": "Xz8XoimCP-9-"
   },
   "outputs": [],
   "source": [
    "from spotipy.oauth2 import SpotifyClientCredentials \n",
    "\n",
    "user_id= \"XXX\"\n",
    "user_secret = \"XXX\"\n",
    "user_credentials_manager = SpotifyClientCredentials(client_id=user_id, client_secret=user_secret)\n",
    "sp = spotipy.Spotify(client_credentials_manager=user_credentials_manager) "
   ]
  },
  {
   "cell_type": "code",
   "execution_count": 4,
   "metadata": {
    "colab": {
     "base_uri": "https://localhost:8080/"
    },
    "id": "GhGcWhqQQA8T",
    "outputId": "2c138d2f-418e-47a2-def8-7ff379399067"
   },
   "outputs": [
    {
     "data": {
      "text/plain": [
       "[{'external_urls': {'spotify': 'https://open.spotify.com/artist/6vWDO969PvNqNYHIOW5v0m'},\n",
       "  'href': 'https://api.spotify.com/v1/artists/6vWDO969PvNqNYHIOW5v0m',\n",
       "  'id': '6vWDO969PvNqNYHIOW5v0m',\n",
       "  'name': 'Beyoncé',\n",
       "  'type': 'artist',\n",
       "  'uri': 'spotify:artist:6vWDO969PvNqNYHIOW5v0m'}]"
      ]
     },
     "execution_count": 4,
     "metadata": {},
     "output_type": "execute_result"
    }
   ],
   "source": [
    "\"\"\"Procurando por o artista específico e verificando quais são os álbuns existentes que ele possui\"\"\"\n",
    "\n",
    "artista = ['Beyonce']\n",
    "resultado = sp.search(artista) \n",
    "resultado['tracks']['items'][2]['artists']"
   ]
  },
  {
   "cell_type": "code",
   "execution_count": 5,
   "metadata": {
    "colab": {
     "base_uri": "https://localhost:8080/"
    },
    "id": "FVo6c4JpQA5n",
    "outputId": "9035a991-2ceb-4816-8e56-e4cb5d34c630"
   },
   "outputs": [
    {
     "data": {
      "text/plain": [
       "['spotify:album:7kUuNU2LRmr9XbwLHXU9UZ',\n",
       " 'spotify:album:46356QHIb3lRX1M7SLydKF',\n",
       " 'spotify:album:552zi1M53PQAX5OH4FIdTx',\n",
       " 'spotify:album:35S1JCj5paIfElT2GODl6x',\n",
       " 'spotify:album:4tyEy1BUd2ZMgT3qP70T3F',\n",
       " 'spotify:album:7dK54iZuOxXFarGhXwEXfF',\n",
       " 'spotify:album:4X6b6POxbjX9inC7TWQd54',\n",
       " 'spotify:album:2UJwKSBUz6rtW4QLK74kQu',\n",
       " 'spotify:album:6KPiNRUaPSuFVes2xEUjYk',\n",
       " 'spotify:album:1gIC63gC3B7o7FfpPACZQJ',\n",
       " 'spotify:album:7cvVgT5RXbcUo9Qw4nq31D',\n",
       " 'spotify:album:4DfyaKILaTMAMxHW2CHOn3',\n",
       " 'spotify:album:6sUoihv7EBflLLP4VriHUe',\n",
       " 'spotify:album:5O7PYNgE3VLWrvB80fIaDZ',\n",
       " 'spotify:album:7sJrStyxsdgeQOUlBszizA',\n",
       " 'spotify:album:2DvHLN4ZpGTWCUD33GeVus',\n",
       " 'spotify:album:39P7VD7qlg3Z0ltq60eHp7',\n",
       " 'spotify:album:1mLK9n3KBlgsRgPX3nlSwf',\n",
       " 'spotify:album:1Q8lx89isBnASRcsNt1zZj',\n",
       " 'spotify:album:23Y5wdyP5byMFktZf8AcWU']"
      ]
     },
     "execution_count": 5,
     "metadata": {},
     "output_type": "execute_result"
    }
   ],
   "source": [
    "\"\"\" Localizando os álbuns do artista dentro do Spotify via API.\n",
    "As URI's do Spotify serão armazenadas juntamente com os nomes \n",
    "de cada álbum em um lista, que será a referência \n",
    "para posteriores inferências. \"\"\"\n",
    "\n",
    "\n",
    "# Raspando as URI do artista selecionado.\n",
    "artista_uris = resultado['tracks']['items'][0]['artists'][0]['uri']\n",
    "\n",
    "# Raspando todos os álbuns do artista selecionado.\n",
    "artista_albums = sp.artist_albums(artista_uris, album_type='album')\n",
    "\n",
    "# Armazenar os nomes dos álbuns dos artistas e as URI's em uma lista.\n",
    "artista_album_names = []\n",
    "artista_album_uris = []\n",
    "for i in range(len(artista_albums['items'])):\n",
    "    artista_album_names.append(artista_albums['items'][i]['name'])\n",
    "    artista_album_uris.append(artista_albums['items'][i]['uri'])\n",
    "    \n",
    "artista_album_names\n",
    "artista_album_uris\n",
    "# Manter os nomes e as URI's na mesma ordem de busca para verificar os dados duplicados."
   ]
  },
  {
   "cell_type": "code",
   "execution_count": 6,
   "metadata": {
    "id": "h8SoG-BdQA3A"
   },
   "outputs": [],
   "source": [
    "\"\"\" Após a localização de cada álbum do artista selecionado, será feita\n",
    "a seleção e armazenamento das músicas.\"\"\"\n",
    "\n",
    "\n",
    "def album_songs(uri):\n",
    "    album = uri \n",
    "    spotify_albums[album] = {}\n",
    "\n",
    "    # Criar uma chave-valor dentro de uma lista vazia aninhada para criação do dicionário do álbum.\n",
    "    spotify_albums[album]['album'] = [] \n",
    "    spotify_albums[album]['track_number'] = []\n",
    "    spotify_albums[album]['id'] = []\n",
    "    spotify_albums[album]['name'] = []\n",
    "    spotify_albums[album]['uri'] = []\n",
    "\n",
    "    # Extrair os dados de cada faixa dos álbuns.\n",
    "    tracks = sp.album_tracks(album)\n",
    "     \n",
    "    for n in range(len(tracks['items'])): \n",
    "        spotify_albums[album]['album'].append(artista_album_names[album_count]) \n",
    "        spotify_albums[album]['track_number'].append(tracks['items'][n]['track_number'])\n",
    "        spotify_albums[album]['id'].append(tracks['items'][n]['id'])\n",
    "        spotify_albums[album]['name'].append(tracks['items'][n]['name'])\n",
    "        spotify_albums[album]['uri'].append(tracks['items'][n]['uri'])"
   ]
  },
  {
   "cell_type": "code",
   "execution_count": 7,
   "metadata": {
    "colab": {
     "base_uri": "https://localhost:8080/"
    },
    "id": "WIsftc8pQA0G",
    "outputId": "b67db98f-cb1a-48b3-e44b-3aa29fab20e6"
   },
   "outputs": [
    {
     "name": "stdout",
     "output_type": "stream",
     "text": [
      "The Lion King: The Gift [Deluxe Edition]Faixas foram adicionadas ao dicionário spotify_album.\n",
      "The Lion King: The Gift [Deluxe Edition]Faixas foram adicionadas ao dicionário spotify_album.\n",
      "The Lion King: The GiftFaixas foram adicionadas ao dicionário spotify_album.\n",
      "HOMECOMING: THE LIVE ALBUMFaixas foram adicionadas ao dicionário spotify_album.\n",
      "HOMECOMING: THE LIVE ALBUMFaixas foram adicionadas ao dicionário spotify_album.\n",
      "LemonadeFaixas foram adicionadas ao dicionário spotify_album.\n",
      "LemonadeFaixas foram adicionadas ao dicionário spotify_album.\n",
      "BEYONCÉ [Platinum Edition]Faixas foram adicionadas ao dicionário spotify_album.\n",
      "BEYONCÉ [Platinum Edition]Faixas foram adicionadas ao dicionário spotify_album.\n",
      "4Faixas foram adicionadas ao dicionário spotify_album.\n",
      "4Faixas foram adicionadas ao dicionário spotify_album.\n",
      "4Faixas foram adicionadas ao dicionário spotify_album.\n",
      "4Faixas foram adicionadas ao dicionário spotify_album.\n",
      "I Am...World TourFaixas foram adicionadas ao dicionário spotify_album.\n",
      "Above And Beyoncé Dance MixesFaixas foram adicionadas ao dicionário spotify_album.\n",
      "I AM...SASHA FIERCEFaixas foram adicionadas ao dicionário spotify_album.\n",
      "I AM...SASHA FIERCEFaixas foram adicionadas ao dicionário spotify_album.\n",
      "I AM...SASHA FIERCEFaixas foram adicionadas ao dicionário spotify_album.\n",
      "I AM...SASHA FIERCEFaixas foram adicionadas ao dicionário spotify_album.\n",
      "I AM...SASHA FIERCEFaixas foram adicionadas ao dicionário spotify_album.\n"
     ]
    }
   ],
   "source": [
    "\"\"\" Agora que as faixas foram localizadas, é o momento de direcionar \n",
    "cada uma faixa para o seu respectivo álbum.\"\"\" \n",
    "\n",
    "spotify_albums = {}\n",
    "album_count = 0\n",
    "for i in artista_album_uris: # Direciona a função para cada álbum específico.\n",
    "    album_songs(i)\n",
    "    print(str(artista_album_names[album_count]) + \"Faixas foram adicionadas ao dicionário spotify_album.\")\n",
    "    album_count+=1 # Atualiza a contagem dos álbuns após todas as faixas serem adicionadas."
   ]
  },
  {
   "cell_type": "code",
   "execution_count": 8,
   "metadata": {
    "id": "WuiDQxaJQAxE"
   },
   "outputs": [],
   "source": [
    "\"\"\" Extraindo as características (FEATURES) de cada faixa do artista, para em seguida realizar\n",
    "as inferências de acordo com as possibilidades e ideias que esses dados podem\n",
    "gerar.\"\"\"\n",
    "\n",
    "def audio_features(album):\n",
    "    # Adiciona chave-valor par armazenar os características (features) de cada faixa.\n",
    "    spotify_albums[album]['acousticness'] = []\n",
    "    spotify_albums[album]['danceability'] = []\n",
    "    spotify_albums[album]['energy'] = []\n",
    "    spotify_albums[album]['instrumentalness'] = []\n",
    "    spotify_albums[album]['liveness'] = []\n",
    "    spotify_albums[album]['loudness'] = []\n",
    "    spotify_albums[album]['speechiness'] = []\n",
    "    spotify_albums[album]['tempo'] = []\n",
    "    spotify_albums[album]['valence'] = []\n",
    "    spotify_albums[album]['popularity'] = []\n",
    "    \n",
    "    track_count = 0\n",
    "    for track in spotify_albums[album]['uri']:\n",
    "        # Extrai a característica por faixa.\n",
    "        features = sp.audio_features(track)\n",
    "        \n",
    "        # Anexa o resultado em seu respectivo álbum.\n",
    "        spotify_albums[album]['acousticness'].append(features[0]['acousticness'])\n",
    "        spotify_albums[album]['danceability'].append(features[0]['danceability'])\n",
    "        spotify_albums[album]['energy'].append(features[0]['energy'])\n",
    "        spotify_albums[album]['instrumentalness'].append(features[0]['instrumentalness'])\n",
    "        spotify_albums[album]['liveness'].append(features[0]['liveness'])\n",
    "        spotify_albums[album]['loudness'].append(features[0]['loudness'])\n",
    "        spotify_albums[album]['speechiness'].append(features[0]['speechiness'])\n",
    "        spotify_albums[album]['tempo'].append(features[0]['tempo'])\n",
    "        spotify_albums[album]['valence'].append(features[0]['valence'])\n",
    "\n",
    "        # Popularidade é armazenada em um local diferente.\n",
    "        pop = sp.track(track)\n",
    "        spotify_albums[album]['popularity'].append(pop['popularity'])\n",
    "        track_count+=1"
   ]
  },
  {
   "cell_type": "code",
   "execution_count": 9,
   "metadata": {
    "colab": {
     "base_uri": "https://localhost:8080/"
    },
    "id": "AwuMOfQrQAt0",
    "outputId": "cf4f6271-1503-43cb-8c97-8a51ebe0ffaa"
   },
   "outputs": [
    {
     "name": "stdout",
     "output_type": "stream",
     "text": [
      "5 playlists completed\n",
      "Loop #: 5\n",
      "Elapsed Time: 77.38996076583862 seconds\n",
      "10 playlists completed\n",
      "Loop #: 10\n",
      "Elapsed Time: 128.3410792350769 seconds\n",
      "15 playlists completed\n",
      "Loop #: 15\n",
      "Elapsed Time: 171.42661476135254 seconds\n",
      "20 playlists completed\n",
      "Loop #: 20\n",
      "Elapsed Time: 228.36937427520752 seconds\n"
     ]
    }
   ],
   "source": [
    "\"\"\" A próxima operação será a de extração das características por faixas, sendo,\n",
    "será criado um loop temperal por faixa com um tempo de espera determinado, de forma,\n",
    "a evitar uma sobrecarga durante a transferencia e recebimento de dados através da\n",
    "API do Spotify.\"\"\"\n",
    "\n",
    "import time\n",
    "import numpy as np\n",
    "sleep_min = 2\n",
    "sleep_max = 5\n",
    "start_time = time.time()\n",
    "request_count = 0\n",
    "for i in spotify_albums:\n",
    "    audio_features(i)\n",
    "    request_count+=1\n",
    "    if request_count % 5 == 0:\n",
    "        print(str(request_count) + \" playlists completed\")\n",
    "        time.sleep(np.random.uniform(sleep_min, sleep_max))\n",
    "        print('Loop #: {}'.format(request_count))\n",
    "        print('Elapsed Time: {} seconds'.format(time.time() - start_time))"
   ]
  },
  {
   "cell_type": "code",
   "execution_count": 10,
   "metadata": {
    "colab": {
     "base_uri": "https://localhost:8080/"
    },
    "id": "bL7d3VKXQApS",
    "outputId": "cadea684-7b6f-41a4-9ca0-2fc1fdb055ff"
   },
   "outputs": [
    {
     "data": {
      "text/plain": [
       "371"
      ]
     },
     "execution_count": 10,
     "metadata": {},
     "output_type": "execute_result"
    }
   ],
   "source": [
    "\"\"\" Agora que os dados de cada faixa foi registrado, bem como as características de cada uma \n",
    "das faixas dos álbuns, um DataFrame será criado com essas informações para futuras\n",
    "inferências.\"\"\"\n",
    "\n",
    "dic_df = {}\n",
    "dic_df['album'] = []\n",
    "dic_df['track_number'] = []\n",
    "dic_df['id'] = []\n",
    "dic_df['name'] = []\n",
    "dic_df['uri'] = []\n",
    "dic_df['acousticness'] = []\n",
    "dic_df['danceability'] = []\n",
    "dic_df['energy'] = []\n",
    "dic_df['instrumentalness'] = []\n",
    "dic_df['liveness'] = []\n",
    "dic_df['loudness'] = []\n",
    "dic_df['speechiness'] = []\n",
    "dic_df['tempo'] = []\n",
    "dic_df['valence'] = []\n",
    "dic_df['popularity'] = []\n",
    "for album in spotify_albums: \n",
    "    for feature in spotify_albums[album]:\n",
    "        dic_df[feature].extend(spotify_albums[album][feature])\n",
    "        \n",
    "len(dic_df['album'])"
   ]
  },
  {
   "cell_type": "code",
   "execution_count": 11,
   "metadata": {
    "colab": {
     "base_uri": "https://localhost:8080/",
     "height": 864
    },
    "id": "HU7YIQvQQAfj",
    "outputId": "bb9e7bdd-49dd-4319-eeea-f04f13c8dc4c"
   },
   "outputs": [
    {
     "data": {
      "text/html": [
       "<div>\n",
       "<style scoped>\n",
       "    .dataframe tbody tr th:only-of-type {\n",
       "        vertical-align: middle;\n",
       "    }\n",
       "\n",
       "    .dataframe tbody tr th {\n",
       "        vertical-align: top;\n",
       "    }\n",
       "\n",
       "    .dataframe thead th {\n",
       "        text-align: right;\n",
       "    }\n",
       "</style>\n",
       "<table border=\"1\" class=\"dataframe\">\n",
       "  <thead>\n",
       "    <tr style=\"text-align: right;\">\n",
       "      <th></th>\n",
       "      <th>album</th>\n",
       "      <th>track_number</th>\n",
       "      <th>id</th>\n",
       "      <th>name</th>\n",
       "      <th>uri</th>\n",
       "      <th>acousticness</th>\n",
       "      <th>danceability</th>\n",
       "      <th>energy</th>\n",
       "      <th>instrumentalness</th>\n",
       "      <th>liveness</th>\n",
       "      <th>loudness</th>\n",
       "      <th>speechiness</th>\n",
       "      <th>tempo</th>\n",
       "      <th>valence</th>\n",
       "      <th>popularity</th>\n",
       "    </tr>\n",
       "  </thead>\n",
       "  <tbody>\n",
       "    <tr>\n",
       "      <th>0</th>\n",
       "      <td>The Lion King: The Gift [Deluxe Edition]</td>\n",
       "      <td>1</td>\n",
       "      <td>0gdOcxvPU37ADE7vPkgQsv</td>\n",
       "      <td>BIGGER</td>\n",
       "      <td>spotify:track:0gdOcxvPU37ADE7vPkgQsv</td>\n",
       "      <td>0.6330</td>\n",
       "      <td>0.509</td>\n",
       "      <td>0.360</td>\n",
       "      <td>0.0000</td>\n",
       "      <td>0.1300</td>\n",
       "      <td>-8.200</td>\n",
       "      <td>0.0361</td>\n",
       "      <td>129.624</td>\n",
       "      <td>0.181</td>\n",
       "      <td>51</td>\n",
       "    </tr>\n",
       "    <tr>\n",
       "      <th>1</th>\n",
       "      <td>The Lion King: The Gift [Deluxe Edition]</td>\n",
       "      <td>2</td>\n",
       "      <td>0Ae8EusoCw7lIkpDycUHYl</td>\n",
       "      <td>FIND YOUR WAY BACK</td>\n",
       "      <td>spotify:track:0Ae8EusoCw7lIkpDycUHYl</td>\n",
       "      <td>0.1970</td>\n",
       "      <td>0.783</td>\n",
       "      <td>0.693</td>\n",
       "      <td>0.0274</td>\n",
       "      <td>0.0768</td>\n",
       "      <td>-6.747</td>\n",
       "      <td>0.1740</td>\n",
       "      <td>119.063</td>\n",
       "      <td>0.623</td>\n",
       "      <td>53</td>\n",
       "    </tr>\n",
       "    <tr>\n",
       "      <th>2</th>\n",
       "      <td>The Lion King: The Gift [Deluxe Edition]</td>\n",
       "      <td>3</td>\n",
       "      <td>6VsNsaxmzrKZ5dKmIgePBN</td>\n",
       "      <td>DON'T JEALOUS ME</td>\n",
       "      <td>spotify:track:6VsNsaxmzrKZ5dKmIgePBN</td>\n",
       "      <td>0.0194</td>\n",
       "      <td>0.926</td>\n",
       "      <td>0.782</td>\n",
       "      <td>0.0718</td>\n",
       "      <td>0.3550</td>\n",
       "      <td>-5.300</td>\n",
       "      <td>0.1010</td>\n",
       "      <td>120.005</td>\n",
       "      <td>0.563</td>\n",
       "      <td>50</td>\n",
       "    </tr>\n",
       "    <tr>\n",
       "      <th>3</th>\n",
       "      <td>The Lion King: The Gift [Deluxe Edition]</td>\n",
       "      <td>4</td>\n",
       "      <td>3W7fs58MeWMZfAbW3vpobA</td>\n",
       "      <td>JA ARA E</td>\n",
       "      <td>spotify:track:3W7fs58MeWMZfAbW3vpobA</td>\n",
       "      <td>0.0488</td>\n",
       "      <td>0.795</td>\n",
       "      <td>0.671</td>\n",
       "      <td>0.0119</td>\n",
       "      <td>0.0752</td>\n",
       "      <td>-5.792</td>\n",
       "      <td>0.0601</td>\n",
       "      <td>92.001</td>\n",
       "      <td>0.867</td>\n",
       "      <td>49</td>\n",
       "    </tr>\n",
       "    <tr>\n",
       "      <th>4</th>\n",
       "      <td>The Lion King: The Gift [Deluxe Edition]</td>\n",
       "      <td>5</td>\n",
       "      <td>7wD8R6QWYJbp6eWrgrNkUH</td>\n",
       "      <td>NILE</td>\n",
       "      <td>spotify:track:7wD8R6QWYJbp6eWrgrNkUH</td>\n",
       "      <td>0.7310</td>\n",
       "      <td>0.554</td>\n",
       "      <td>0.450</td>\n",
       "      <td>0.0000</td>\n",
       "      <td>0.3390</td>\n",
       "      <td>-9.454</td>\n",
       "      <td>0.1820</td>\n",
       "      <td>87.047</td>\n",
       "      <td>0.348</td>\n",
       "      <td>48</td>\n",
       "    </tr>\n",
       "  </tbody>\n",
       "</table>\n",
       "</div>"
      ],
      "text/plain": [
       "                                      album  track_number  \\\n",
       "0  The Lion King: The Gift [Deluxe Edition]             1   \n",
       "1  The Lion King: The Gift [Deluxe Edition]             2   \n",
       "2  The Lion King: The Gift [Deluxe Edition]             3   \n",
       "3  The Lion King: The Gift [Deluxe Edition]             4   \n",
       "4  The Lion King: The Gift [Deluxe Edition]             5   \n",
       "\n",
       "                       id                name  \\\n",
       "0  0gdOcxvPU37ADE7vPkgQsv              BIGGER   \n",
       "1  0Ae8EusoCw7lIkpDycUHYl  FIND YOUR WAY BACK   \n",
       "2  6VsNsaxmzrKZ5dKmIgePBN    DON'T JEALOUS ME   \n",
       "3  3W7fs58MeWMZfAbW3vpobA            JA ARA E   \n",
       "4  7wD8R6QWYJbp6eWrgrNkUH                NILE   \n",
       "\n",
       "                                    uri  acousticness  danceability  energy  \\\n",
       "0  spotify:track:0gdOcxvPU37ADE7vPkgQsv        0.6330         0.509   0.360   \n",
       "1  spotify:track:0Ae8EusoCw7lIkpDycUHYl        0.1970         0.783   0.693   \n",
       "2  spotify:track:6VsNsaxmzrKZ5dKmIgePBN        0.0194         0.926   0.782   \n",
       "3  spotify:track:3W7fs58MeWMZfAbW3vpobA        0.0488         0.795   0.671   \n",
       "4  spotify:track:7wD8R6QWYJbp6eWrgrNkUH        0.7310         0.554   0.450   \n",
       "\n",
       "   instrumentalness  liveness  loudness  speechiness    tempo  valence  \\\n",
       "0            0.0000    0.1300    -8.200       0.0361  129.624    0.181   \n",
       "1            0.0274    0.0768    -6.747       0.1740  119.063    0.623   \n",
       "2            0.0718    0.3550    -5.300       0.1010  120.005    0.563   \n",
       "3            0.0119    0.0752    -5.792       0.0601   92.001    0.867   \n",
       "4            0.0000    0.3390    -9.454       0.1820   87.047    0.348   \n",
       "\n",
       "   popularity  \n",
       "0          51  \n",
       "1          53  \n",
       "2          50  \n",
       "3          49  \n",
       "4          48  "
      ]
     },
     "execution_count": 11,
     "metadata": {},
     "output_type": "execute_result"
    }
   ],
   "source": [
    "\"\"\" Criado o DataFrame\"\"\"\n",
    "\n",
    "dataframe = pd.DataFrame.from_dict(dic_df)\n",
    "dataframe.head()"
   ]
  },
  {
   "cell_type": "code",
   "execution_count": 12,
   "metadata": {
    "colab": {
     "base_uri": "https://localhost:8080/"
    },
    "id": "Sg_2Dfbt1Tpd",
    "outputId": "14944052-b138-4dab-84f8-d0436c89f017"
   },
   "outputs": [
    {
     "name": "stdout",
     "output_type": "stream",
     "text": [
      "371\n",
      "172\n"
     ]
    }
   ],
   "source": [
    "\"\"\"Como existem faixas que se repetem em álbuns diferentes, o código abaixo, é utilizado\n",
    "para remover essas faixas duplicadas, mantendo as que apresentam maior popularidade,\n",
    "para que haja coerência durante a realização das análises exploratórias.\"\"\"\n",
    "\n",
    "print(len(dataframe))\n",
    "final_df = dataframe.sort_values('popularity', ascending=False).drop_duplicates('name').sort_index()\n",
    "print(len(final_df))"
   ]
  },
  {
   "cell_type": "code",
   "execution_count": 13,
   "metadata": {
    "id": "LnFL12J_1TmS"
   },
   "outputs": [],
   "source": [
    "\"\"\" Agora que as músicas duplicadas foram removidas, temos um total de 172 música para\n",
    "o artista selecionado, então, agora podemos salvar o DataFrame em formato CSV.\"\"\"\n",
    "\n",
    "final_df.to_csv(\"beyonce.csv\")"
   ]
  },
  {
   "cell_type": "markdown",
   "metadata": {
    "id": "HOG156_RXKES"
   },
   "source": [
    "## Análises Exploratórias.\n",
    "\n",
    "#### A partir desse ponto do projeto, será desenvolvido alguns processos de limpeza do DataFrame, para que esteja adaptado para as análises exploratórias que seguem."
   ]
  },
  {
   "cell_type": "code",
   "execution_count": 14,
   "metadata": {
    "id": "NcHuGmn5X1j6"
   },
   "outputs": [],
   "source": [
    "\"\"\"Importando as novas bibliotecas para realização das Análises Exploratórias.\"\"\"\n",
    "\n",
    "import numpy as np\n",
    "import matplotlib.pyplot as plt\n",
    "import seaborn as sns"
   ]
  },
  {
   "cell_type": "code",
   "execution_count": 15,
   "metadata": {
    "colab": {
     "base_uri": "https://localhost:8080/",
     "height": 751
    },
    "id": "sYhssnqrX2DS",
    "outputId": "e45c0a3f-bca5-4b34-8d01-b7ab05b9686d"
   },
   "outputs": [
    {
     "data": {
      "text/html": [
       "<div>\n",
       "<style scoped>\n",
       "    .dataframe tbody tr th:only-of-type {\n",
       "        vertical-align: middle;\n",
       "    }\n",
       "\n",
       "    .dataframe tbody tr th {\n",
       "        vertical-align: top;\n",
       "    }\n",
       "\n",
       "    .dataframe thead th {\n",
       "        text-align: right;\n",
       "    }\n",
       "</style>\n",
       "<table border=\"1\" class=\"dataframe\">\n",
       "  <thead>\n",
       "    <tr style=\"text-align: right;\">\n",
       "      <th></th>\n",
       "      <th>Unnamed: 0</th>\n",
       "      <th>album</th>\n",
       "      <th>track_number</th>\n",
       "      <th>id</th>\n",
       "      <th>uri</th>\n",
       "      <th>acousticness</th>\n",
       "      <th>danceability</th>\n",
       "      <th>energy</th>\n",
       "      <th>instrumentalness</th>\n",
       "      <th>liveness</th>\n",
       "      <th>loudness</th>\n",
       "      <th>speechiness</th>\n",
       "      <th>tempo</th>\n",
       "      <th>valence</th>\n",
       "      <th>popularity</th>\n",
       "    </tr>\n",
       "    <tr>\n",
       "      <th>name</th>\n",
       "      <th></th>\n",
       "      <th></th>\n",
       "      <th></th>\n",
       "      <th></th>\n",
       "      <th></th>\n",
       "      <th></th>\n",
       "      <th></th>\n",
       "      <th></th>\n",
       "      <th></th>\n",
       "      <th></th>\n",
       "      <th></th>\n",
       "      <th></th>\n",
       "      <th></th>\n",
       "      <th></th>\n",
       "      <th></th>\n",
       "    </tr>\n",
       "  </thead>\n",
       "  <tbody>\n",
       "    <tr>\n",
       "      <th>Sweet Dreams</th>\n",
       "      <td>366</td>\n",
       "      <td>I AM...SASHA FIERCE</td>\n",
       "      <td>4</td>\n",
       "      <td>1FKxKGONukVFXWVJxAKmlz</td>\n",
       "      <td>spotify:track:1FKxKGONukVFXWVJxAKmlz</td>\n",
       "      <td>0.08950</td>\n",
       "      <td>0.694</td>\n",
       "      <td>0.825</td>\n",
       "      <td>0.000019</td>\n",
       "      <td>0.0618</td>\n",
       "      <td>-5.986</td>\n",
       "      <td>0.1110</td>\n",
       "      <td>121.949</td>\n",
       "      <td>0.788</td>\n",
       "      <td>63</td>\n",
       "    </tr>\n",
       "    <tr>\n",
       "      <th>Video Phone</th>\n",
       "      <td>367</td>\n",
       "      <td>I AM...SASHA FIERCE</td>\n",
       "      <td>5</td>\n",
       "      <td>53hNzjDClsnsdYpLIwqXvn</td>\n",
       "      <td>spotify:track:53hNzjDClsnsdYpLIwqXvn</td>\n",
       "      <td>0.00242</td>\n",
       "      <td>0.479</td>\n",
       "      <td>0.763</td>\n",
       "      <td>0.035300</td>\n",
       "      <td>0.3830</td>\n",
       "      <td>-8.954</td>\n",
       "      <td>0.1780</td>\n",
       "      <td>84.769</td>\n",
       "      <td>0.608</td>\n",
       "      <td>47</td>\n",
       "    </tr>\n",
       "    <tr>\n",
       "      <th>Hello</th>\n",
       "      <td>368</td>\n",
       "      <td>I AM...SASHA FIERCE</td>\n",
       "      <td>6</td>\n",
       "      <td>3ID5lLzkh4uM8XPUuB2VKq</td>\n",
       "      <td>spotify:track:3ID5lLzkh4uM8XPUuB2VKq</td>\n",
       "      <td>0.20600</td>\n",
       "      <td>0.330</td>\n",
       "      <td>0.769</td>\n",
       "      <td>0.000002</td>\n",
       "      <td>0.1430</td>\n",
       "      <td>-5.755</td>\n",
       "      <td>0.1700</td>\n",
       "      <td>97.515</td>\n",
       "      <td>0.416</td>\n",
       "      <td>44</td>\n",
       "    </tr>\n",
       "    <tr>\n",
       "      <th>Ego</th>\n",
       "      <td>369</td>\n",
       "      <td>I AM...SASHA FIERCE</td>\n",
       "      <td>7</td>\n",
       "      <td>6GcuA4J9ruyClBizBd4m5E</td>\n",
       "      <td>spotify:track:6GcuA4J9ruyClBizBd4m5E</td>\n",
       "      <td>0.15500</td>\n",
       "      <td>0.623</td>\n",
       "      <td>0.389</td>\n",
       "      <td>0.000000</td>\n",
       "      <td>0.1630</td>\n",
       "      <td>-7.816</td>\n",
       "      <td>0.2410</td>\n",
       "      <td>79.454</td>\n",
       "      <td>0.489</td>\n",
       "      <td>54</td>\n",
       "    </tr>\n",
       "    <tr>\n",
       "      <th>Scared of Lonely</th>\n",
       "      <td>370</td>\n",
       "      <td>I AM...SASHA FIERCE</td>\n",
       "      <td>8</td>\n",
       "      <td>5m3MMqREtffhno6KLdpnDI</td>\n",
       "      <td>spotify:track:5m3MMqREtffhno6KLdpnDI</td>\n",
       "      <td>0.05460</td>\n",
       "      <td>0.534</td>\n",
       "      <td>0.575</td>\n",
       "      <td>0.000000</td>\n",
       "      <td>0.1310</td>\n",
       "      <td>-6.706</td>\n",
       "      <td>0.0519</td>\n",
       "      <td>86.961</td>\n",
       "      <td>0.205</td>\n",
       "      <td>41</td>\n",
       "    </tr>\n",
       "  </tbody>\n",
       "</table>\n",
       "</div>"
      ],
      "text/plain": [
       "                  Unnamed: 0                album  track_number  \\\n",
       "name                                                              \n",
       "Sweet Dreams             366  I AM...SASHA FIERCE             4   \n",
       "Video Phone              367  I AM...SASHA FIERCE             5   \n",
       "Hello                    368  I AM...SASHA FIERCE             6   \n",
       "Ego                      369  I AM...SASHA FIERCE             7   \n",
       "Scared of Lonely         370  I AM...SASHA FIERCE             8   \n",
       "\n",
       "                                      id  \\\n",
       "name                                       \n",
       "Sweet Dreams      1FKxKGONukVFXWVJxAKmlz   \n",
       "Video Phone       53hNzjDClsnsdYpLIwqXvn   \n",
       "Hello             3ID5lLzkh4uM8XPUuB2VKq   \n",
       "Ego               6GcuA4J9ruyClBizBd4m5E   \n",
       "Scared of Lonely  5m3MMqREtffhno6KLdpnDI   \n",
       "\n",
       "                                                   uri  acousticness  \\\n",
       "name                                                                   \n",
       "Sweet Dreams      spotify:track:1FKxKGONukVFXWVJxAKmlz       0.08950   \n",
       "Video Phone       spotify:track:53hNzjDClsnsdYpLIwqXvn       0.00242   \n",
       "Hello             spotify:track:3ID5lLzkh4uM8XPUuB2VKq       0.20600   \n",
       "Ego               spotify:track:6GcuA4J9ruyClBizBd4m5E       0.15500   \n",
       "Scared of Lonely  spotify:track:5m3MMqREtffhno6KLdpnDI       0.05460   \n",
       "\n",
       "                  danceability  energy  instrumentalness  liveness  loudness  \\\n",
       "name                                                                           \n",
       "Sweet Dreams             0.694   0.825          0.000019    0.0618    -5.986   \n",
       "Video Phone              0.479   0.763          0.035300    0.3830    -8.954   \n",
       "Hello                    0.330   0.769          0.000002    0.1430    -5.755   \n",
       "Ego                      0.623   0.389          0.000000    0.1630    -7.816   \n",
       "Scared of Lonely         0.534   0.575          0.000000    0.1310    -6.706   \n",
       "\n",
       "                  speechiness    tempo  valence  popularity  \n",
       "name                                                         \n",
       "Sweet Dreams           0.1110  121.949    0.788          63  \n",
       "Video Phone            0.1780   84.769    0.608          47  \n",
       "Hello                  0.1700   97.515    0.416          44  \n",
       "Ego                    0.2410   79.454    0.489          54  \n",
       "Scared of Lonely       0.0519   86.961    0.205          41  "
      ]
     },
     "execution_count": 15,
     "metadata": {},
     "output_type": "execute_result"
    }
   ],
   "source": [
    "\"\"\" Este código é usado para carregar os dados CSV salvo e \n",
    "já alocar a coluna name (nome da música como header do DataFrame)\"\"\"\n",
    "\n",
    "df = pd.read_csv('beyonce.csv', index_col='name',\n",
    "                  parse_dates=['name'])\n",
    "\n",
    "df.tail() # Mostrando o DataFrame de Baixo para cima."
   ]
  },
  {
   "cell_type": "code",
   "execution_count": 16,
   "metadata": {
    "colab": {
     "base_uri": "https://localhost:8080/"
    },
    "id": "xVEbK8_xX162",
    "outputId": "81230dd2-fc2e-4895-fe72-679005adc84a"
   },
   "outputs": [
    {
     "data": {
      "text/plain": [
       "(172, 15)"
      ]
     },
     "execution_count": 16,
     "metadata": {},
     "output_type": "execute_result"
    }
   ],
   "source": [
    "df.shape"
   ]
  },
  {
   "cell_type": "code",
   "execution_count": 17,
   "metadata": {
    "colab": {
     "base_uri": "https://localhost:8080/"
    },
    "id": "REZW4DZMfzRK",
    "outputId": "969be9e6-b131-40c2-bc12-accbee0de072"
   },
   "outputs": [
    {
     "data": {
      "text/plain": [
       "array(['Unnamed: 0', 'album', 'track_number', 'id', 'uri', 'acousticness',\n",
       "       'danceability', 'energy', 'instrumentalness', 'liveness',\n",
       "       'loudness', 'speechiness', 'tempo', 'valence', 'popularity'],\n",
       "      dtype=object)"
      ]
     },
     "execution_count": 17,
     "metadata": {},
     "output_type": "execute_result"
    }
   ],
   "source": [
    "\"\"\"Verificando quais são os atributos contidos no DataFrame para remover aqueles que não serão necessários \n",
    "para os processos de inferências.\"\"\"\n",
    "\n",
    "df.columns.values"
   ]
  },
  {
   "cell_type": "code",
   "execution_count": 18,
   "metadata": {
    "id": "GuKjY_Qcg50C",
    "scrolled": true
   },
   "outputs": [
    {
     "data": {
      "text/html": [
       "<div>\n",
       "<style scoped>\n",
       "    .dataframe tbody tr th:only-of-type {\n",
       "        vertical-align: middle;\n",
       "    }\n",
       "\n",
       "    .dataframe tbody tr th {\n",
       "        vertical-align: top;\n",
       "    }\n",
       "\n",
       "    .dataframe thead th {\n",
       "        text-align: right;\n",
       "    }\n",
       "</style>\n",
       "<table border=\"1\" class=\"dataframe\">\n",
       "  <thead>\n",
       "    <tr style=\"text-align: right;\">\n",
       "      <th></th>\n",
       "      <th>acousticness</th>\n",
       "      <th>danceability</th>\n",
       "      <th>energy</th>\n",
       "      <th>instrumentalness</th>\n",
       "      <th>liveness</th>\n",
       "      <th>loudness</th>\n",
       "      <th>speechiness</th>\n",
       "      <th>tempo</th>\n",
       "      <th>valence</th>\n",
       "      <th>popularity</th>\n",
       "    </tr>\n",
       "    <tr>\n",
       "      <th>name</th>\n",
       "      <th></th>\n",
       "      <th></th>\n",
       "      <th></th>\n",
       "      <th></th>\n",
       "      <th></th>\n",
       "      <th></th>\n",
       "      <th></th>\n",
       "      <th></th>\n",
       "      <th></th>\n",
       "      <th></th>\n",
       "    </tr>\n",
       "  </thead>\n",
       "  <tbody>\n",
       "    <tr>\n",
       "      <th>BIGGER</th>\n",
       "      <td>0.63300</td>\n",
       "      <td>0.509</td>\n",
       "      <td>0.360</td>\n",
       "      <td>0.000000</td>\n",
       "      <td>0.1300</td>\n",
       "      <td>-8.200</td>\n",
       "      <td>0.0361</td>\n",
       "      <td>129.624</td>\n",
       "      <td>0.181</td>\n",
       "      <td>51</td>\n",
       "    </tr>\n",
       "    <tr>\n",
       "      <th>NILE</th>\n",
       "      <td>0.73100</td>\n",
       "      <td>0.554</td>\n",
       "      <td>0.450</td>\n",
       "      <td>0.000000</td>\n",
       "      <td>0.3390</td>\n",
       "      <td>-9.454</td>\n",
       "      <td>0.1820</td>\n",
       "      <td>87.047</td>\n",
       "      <td>0.348</td>\n",
       "      <td>48</td>\n",
       "    </tr>\n",
       "    <tr>\n",
       "      <th>WATER</th>\n",
       "      <td>0.10500</td>\n",
       "      <td>0.807</td>\n",
       "      <td>0.809</td>\n",
       "      <td>0.000003</td>\n",
       "      <td>0.1860</td>\n",
       "      <td>-3.713</td>\n",
       "      <td>0.0709</td>\n",
       "      <td>124.052</td>\n",
       "      <td>0.462</td>\n",
       "      <td>53</td>\n",
       "    </tr>\n",
       "    <tr>\n",
       "      <th>KEYS TO THE KINGDOM</th>\n",
       "      <td>0.00642</td>\n",
       "      <td>0.735</td>\n",
       "      <td>0.678</td>\n",
       "      <td>0.000016</td>\n",
       "      <td>0.1140</td>\n",
       "      <td>-6.655</td>\n",
       "      <td>0.0896</td>\n",
       "      <td>90.028</td>\n",
       "      <td>0.686</td>\n",
       "      <td>49</td>\n",
       "    </tr>\n",
       "    <tr>\n",
       "      <th>OTHERSIDE</th>\n",
       "      <td>0.94000</td>\n",
       "      <td>0.330</td>\n",
       "      <td>0.244</td>\n",
       "      <td>0.004660</td>\n",
       "      <td>0.0969</td>\n",
       "      <td>-9.508</td>\n",
       "      <td>0.0339</td>\n",
       "      <td>136.344</td>\n",
       "      <td>0.400</td>\n",
       "      <td>47</td>\n",
       "    </tr>\n",
       "    <tr>\n",
       "      <th>...</th>\n",
       "      <td>...</td>\n",
       "      <td>...</td>\n",
       "      <td>...</td>\n",
       "      <td>...</td>\n",
       "      <td>...</td>\n",
       "      <td>...</td>\n",
       "      <td>...</td>\n",
       "      <td>...</td>\n",
       "      <td>...</td>\n",
       "      <td>...</td>\n",
       "    </tr>\n",
       "    <tr>\n",
       "      <th>Sweet Dreams</th>\n",
       "      <td>0.08950</td>\n",
       "      <td>0.694</td>\n",
       "      <td>0.825</td>\n",
       "      <td>0.000019</td>\n",
       "      <td>0.0618</td>\n",
       "      <td>-5.986</td>\n",
       "      <td>0.1110</td>\n",
       "      <td>121.949</td>\n",
       "      <td>0.788</td>\n",
       "      <td>63</td>\n",
       "    </tr>\n",
       "    <tr>\n",
       "      <th>Video Phone</th>\n",
       "      <td>0.00242</td>\n",
       "      <td>0.479</td>\n",
       "      <td>0.763</td>\n",
       "      <td>0.035300</td>\n",
       "      <td>0.3830</td>\n",
       "      <td>-8.954</td>\n",
       "      <td>0.1780</td>\n",
       "      <td>84.769</td>\n",
       "      <td>0.608</td>\n",
       "      <td>47</td>\n",
       "    </tr>\n",
       "    <tr>\n",
       "      <th>Hello</th>\n",
       "      <td>0.20600</td>\n",
       "      <td>0.330</td>\n",
       "      <td>0.769</td>\n",
       "      <td>0.000002</td>\n",
       "      <td>0.1430</td>\n",
       "      <td>-5.755</td>\n",
       "      <td>0.1700</td>\n",
       "      <td>97.515</td>\n",
       "      <td>0.416</td>\n",
       "      <td>44</td>\n",
       "    </tr>\n",
       "    <tr>\n",
       "      <th>Ego</th>\n",
       "      <td>0.15500</td>\n",
       "      <td>0.623</td>\n",
       "      <td>0.389</td>\n",
       "      <td>0.000000</td>\n",
       "      <td>0.1630</td>\n",
       "      <td>-7.816</td>\n",
       "      <td>0.2410</td>\n",
       "      <td>79.454</td>\n",
       "      <td>0.489</td>\n",
       "      <td>54</td>\n",
       "    </tr>\n",
       "    <tr>\n",
       "      <th>Scared of Lonely</th>\n",
       "      <td>0.05460</td>\n",
       "      <td>0.534</td>\n",
       "      <td>0.575</td>\n",
       "      <td>0.000000</td>\n",
       "      <td>0.1310</td>\n",
       "      <td>-6.706</td>\n",
       "      <td>0.0519</td>\n",
       "      <td>86.961</td>\n",
       "      <td>0.205</td>\n",
       "      <td>41</td>\n",
       "    </tr>\n",
       "  </tbody>\n",
       "</table>\n",
       "<p>172 rows × 10 columns</p>\n",
       "</div>"
      ],
      "text/plain": [
       "                     acousticness  danceability  energy  instrumentalness  \\\n",
       "name                                                                        \n",
       "BIGGER                    0.63300         0.509   0.360          0.000000   \n",
       "NILE                      0.73100         0.554   0.450          0.000000   \n",
       "WATER                     0.10500         0.807   0.809          0.000003   \n",
       "KEYS TO THE KINGDOM       0.00642         0.735   0.678          0.000016   \n",
       "OTHERSIDE                 0.94000         0.330   0.244          0.004660   \n",
       "...                           ...           ...     ...               ...   \n",
       "Sweet Dreams              0.08950         0.694   0.825          0.000019   \n",
       "Video Phone               0.00242         0.479   0.763          0.035300   \n",
       "Hello                     0.20600         0.330   0.769          0.000002   \n",
       "Ego                       0.15500         0.623   0.389          0.000000   \n",
       "Scared of Lonely          0.05460         0.534   0.575          0.000000   \n",
       "\n",
       "                     liveness  loudness  speechiness    tempo  valence  \\\n",
       "name                                                                     \n",
       "BIGGER                 0.1300    -8.200       0.0361  129.624    0.181   \n",
       "NILE                   0.3390    -9.454       0.1820   87.047    0.348   \n",
       "WATER                  0.1860    -3.713       0.0709  124.052    0.462   \n",
       "KEYS TO THE KINGDOM    0.1140    -6.655       0.0896   90.028    0.686   \n",
       "OTHERSIDE              0.0969    -9.508       0.0339  136.344    0.400   \n",
       "...                       ...       ...          ...      ...      ...   \n",
       "Sweet Dreams           0.0618    -5.986       0.1110  121.949    0.788   \n",
       "Video Phone            0.3830    -8.954       0.1780   84.769    0.608   \n",
       "Hello                  0.1430    -5.755       0.1700   97.515    0.416   \n",
       "Ego                    0.1630    -7.816       0.2410   79.454    0.489   \n",
       "Scared of Lonely       0.1310    -6.706       0.0519   86.961    0.205   \n",
       "\n",
       "                     popularity  \n",
       "name                             \n",
       "BIGGER                       51  \n",
       "NILE                         48  \n",
       "WATER                        53  \n",
       "KEYS TO THE KINGDOM          49  \n",
       "OTHERSIDE                    47  \n",
       "...                         ...  \n",
       "Sweet Dreams                 63  \n",
       "Video Phone                  47  \n",
       "Hello                        44  \n",
       "Ego                          54  \n",
       "Scared of Lonely             41  \n",
       "\n",
       "[172 rows x 10 columns]"
      ]
     },
     "execution_count": 18,
     "metadata": {},
     "output_type": "execute_result"
    }
   ],
   "source": [
    "\"\"\"Nesse trecho de código serão removidos atributos categóricos que não são interessantes no momento para as análises\n",
    "exploratórias.\"\"\"\n",
    "\n",
    "DF = df[['acousticness','danceability','energy','instrumentalness', 'liveness',\n",
    "       'loudness', 'speechiness', 'tempo', 'valence', 'popularity']]\n",
    "DF"
   ]
  },
  {
   "cell_type": "code",
   "execution_count": 19,
   "metadata": {},
   "outputs": [
    {
     "data": {
      "image/png": "[encoded data removed]",
      "text/plain": [
       "<Figure size 864x648 with 2 Axes>"
      ]
     },
     "metadata": {
      "needs_background": "light"
     },
     "output_type": "display_data"
    }
   ],
   "source": [
    "\"\"\"Código usado para verificar a correlação entre os atributos do DataFrame.\"\"\"\n",
    "\n",
    "plt.subplots(figsize= (12,9))\n",
    "\n",
    "sns.heatmap(DF.corr(), annot = True, cmap = 'RdBu', linewidths = 0.5,\n",
    "           linecolor = 'white');\n",
    "plt.title('Correlação entre FEATURES musical', fontsize = 28)\n",
    "# Salvando, criando nome, ajustando para não haver cortes e upgrade resolution\n",
    "plt.savefig('mapacalor.png',bbox_inches = 'tight',dpi =600)"
   ]
  },
  {
   "cell_type": "code",
   "execution_count": 20,
   "metadata": {
    "scrolled": true
   },
   "outputs": [
    {
     "data": {
      "text/plain": [
       "name\n",
       "Halo                           75\n",
       "Love On Top                    74\n",
       "Formation                      73\n",
       "Run the World (Girls)          72\n",
       "Drunk in Love (feat. Jay-Z)    70\n",
       "Name: popularity, dtype: int64"
      ]
     },
     "execution_count": 20,
     "metadata": {},
     "output_type": "execute_result"
    }
   ],
   "source": [
    "\"\"\"Este código imprime as músicas mais populares do artista segunda a API do Spotify\"\"\"\n",
    "\n",
    "Pop = DF['popularity'].nlargest(n=5) # n indica a quantidade de faixas\n",
    "Pop"
   ]
  },
  {
   "cell_type": "markdown",
   "metadata": {},
   "source": [
    "###  Para haver uma melhor compreesão da análise desenvolvida, um novo DataFrame DIRECIONADO aos FEATURES das faixas será construído afim de ampliar o entendimento da popularidade das faixas.\n",
    "\n",
    "### Para fazer algumas inferências gráficas, é necessário remover atributos que dificultam a vizualização da variação dos demais atributos.\n",
    "\n",
    "#### Sendo assim, serão removido os atributos. \n",
    "## <font color = red> tempo, loudness e popularity. "
   ]
  },
  {
   "cell_type": "code",
   "execution_count": 21,
   "metadata": {},
   "outputs": [],
   "source": [
    "DF_2 = DF[['acousticness','danceability','energy','instrumentalness', 'liveness', 'speechiness', 'valence']]"
   ]
  },
  {
   "cell_type": "code",
   "execution_count": 22,
   "metadata": {},
   "outputs": [
    {
     "data": {
      "image/png": "[encoded data removed]",
      "text/plain": [
       "<Figure size 240x120 with 1 Axes>"
      ]
     },
     "metadata": {
      "needs_background": "light"
     },
     "output_type": "display_data"
    }
   ],
   "source": [
    "fig, ax = plt.subplots(figsize=(2, 1), dpi=120)\n",
    "colors = plt.cm.Dark2(range(8))\n",
    "x = Pop.index\n",
    "width = Pop.values\n",
    "ax.barh(y=x, width=width, color=colors);"
   ]
  },
  {
   "cell_type": "code",
   "execution_count": 23,
   "metadata": {},
   "outputs": [
    {
     "data": {
      "image/png": "[encoded data removed]",
      "text/plain": [
       "<Figure size 240x120 with 1 Axes>"
      ]
     },
     "execution_count": 23,
     "metadata": {},
     "output_type": "execute_result"
    }
   ],
   "source": [
    "def nice_axes(ax):\n",
    "    ax.set_facecolor('.8')\n",
    "    ax.tick_params(labelsize=8, length=0)\n",
    "    ax.grid(True, axis='x', color='white')\n",
    "    ax.set_axisbelow(True)\n",
    "    [spine.set_visible(False) for spine in ax.spines.values()]\n",
    "    \n",
    "nice_axes(ax)\n",
    "fig"
   ]
  },
  {
   "cell_type": "code",
   "execution_count": 24,
   "metadata": {},
   "outputs": [
    {
     "data": {
      "image/png": "[encoded data removed]",
      "text/plain": [
       "<Figure size 1100x200 with 5 Axes>"
      ]
     },
     "metadata": {
      "needs_background": "light"
     },
     "output_type": "display_data"
    }
   ],
   "source": [
    "\"\"\"Como observado abaixo é possível ter uma ideia de quais são os atributos que torna cada faixa mais popular,\n",
    "ATENÇÃO, pois as FEATURES por faixa não estão na mesma ordem para cada faixa.\"\"\"\n",
    "\n",
    "fig, ax_array = plt.subplots(nrows=1, ncols=5, figsize=(11, 2), dpi=100, tight_layout=True)\n",
    "dates = ['Halo', 'Love On Top', 'Formation', 'Run the World (Girls)','Drunk in Love (feat. Jay-Z)']\n",
    "for ax, date in zip(ax_array, dates):\n",
    "    s = DF_2.loc[date].sort_values()\n",
    "    ax.barh(y=s.index, width=s.values, color=colors)\n",
    "    ax.set_title(date, fontsize='smaller')\n",
    "    nice_axes(ax)"
   ]
  },
  {
   "cell_type": "markdown",
   "metadata": {},
   "source": [
    "### Descobri recentemente dois novos recursos gráficos (Plotly & Cufflinks) e achei bastante interessante inserir a mesma nesse projeto, que é uma biblioteca capaz de criar Dashboard dentro do Jupyter Offline. Mais detalhes pode ser encontrado na <a href=\"https://plotly.com/python/pandas-backend/#introduction\"> Documentação</a> da biblioteca."
   ]
  },
  {
   "cell_type": "code",
   "execution_count": 25,
   "metadata": {},
   "outputs": [],
   "source": [
    "\"\"\"Recurso para fazer o download da biblioteca no sistema.\"\"\"\n",
    "\n",
    "#!pip install cufflinks\n",
    "#!pip install plotly\n",
    "#!pip install chart_studio - Precisa ser instalado para trabalhar online.\n",
    "\n",
    "import cufflinks as cf\n",
    "from plotly.offline import iplot\n",
    "import plotly.express as px"
   ]
  },
  {
   "cell_type": "code",
   "execution_count": 26,
   "metadata": {},
   "outputs": [
    {
     "data": {
      "text/html": [
       "        <script type=\"text/javascript\">\n",
       "        window.PlotlyConfig = {MathJaxConfig: 'local'};\n",
       "        if (window.MathJax) {MathJax.Hub.Config({SVG: {font: \"STIX-Web\"}});}\n",
       "        if (typeof require !== 'undefined') {\n",
       "        require.undef(\"plotly\");\n",
       "        requirejs.config({\n",
       "            paths: {\n",
       "                'plotly': ['https://cdn.plot.ly/plotly-2.3.1.min']\n",
       "            }\n",
       "        });\n",
       "        require(['plotly'], function(Plotly) {\n",
       "            window._Plotly = Plotly;\n",
       "        });\n",
       "        }\n",
       "        </script>\n",
       "        "
      ]
     },
     "metadata": {},
     "output_type": "display_data"
    }
   ],
   "source": [
    "cf.go_offline()"
   ]
  },
  {
   "cell_type": "code",
   "execution_count": 30,
   "metadata": {},
   "outputs": [
    {
     "data": {
      "application/vnd.plotly.v1+json": {
       "config": {
        "linkText": "Export to plot.ly",
        "plotlyServerURL": "https://plot.ly",
        "showLink": true
       },
       "data": [
        {
         "marker": {
          "color": "rgba(255, 153, 51, 0.6)",
          "line": {
           "color": "rgba(255, 153, 51, 1.0)",
           "width": 1
          }
         },
         "name": "None",
         "orientation": "v",
         "text": "",
         "type": "bar",
         "x": [
          "acousticness",
          "danceability",
          "energy",
          "instrumentalness",
          "liveness",
          "speechiness",
          "valence"
         ],
         "y": [
          32.5326183,
          93.162,
          109.16015,
          8.553262530000001,
          67.4877,
          31.9117,
          67.28699999999999
         ]
        }
       ],
       "layout": {
        "legend": {
         "bgcolor": "#F5F6F9",
         "font": {
          "color": "#4D5663"
         }
        },
        "paper_bgcolor": "#F5F6F9",
        "plot_bgcolor": "#F5F6F9",
        "template": {
         "data": {
          "bar": [
           {
            "error_x": {
             "color": "#2a3f5f"
            },
            "error_y": {
             "color": "#2a3f5f"
            },
            "marker": {
             "line": {
              "color": "#E5ECF6",
              "width": 0.5
             },
             "pattern": {
              "fillmode": "overlay",
              "size": 10,
              "solidity": 0.2
             }
            },
            "type": "bar"
           }
          ],
          "barpolar": [
           {
            "marker": {
             "line": {
              "color": "#E5ECF6",
              "width": 0.5
             },
             "pattern": {
              "fillmode": "overlay",
              "size": 10,
              "solidity": 0.2
             }
            },
            "type": "barpolar"
           }
          ],
          "carpet": [
           {
            "aaxis": {
             "endlinecolor": "#2a3f5f",
             "gridcolor": "white",
             "linecolor": "white",
             "minorgridcolor": "white",
             "startlinecolor": "#2a3f5f"
            },
            "baxis": {
             "endlinecolor": "#2a3f5f",
             "gridcolor": "white",
             "linecolor": "white",
             "minorgridcolor": "white",
             "startlinecolor": "#2a3f5f"
            },
            "type": "carpet"
           }
          ],
          "choropleth": [
           {
            "colorbar": {
             "outlinewidth": 0,
             "ticks": ""
            },
            "type": "choropleth"
           }
          ],
          "contour": [
           {
            "colorbar": {
             "outlinewidth": 0,
             "ticks": ""
            },
            "colorscale": [
             [
              0,
              "#0d0887"
             ],
             [
              0.1111111111111111,
              "#46039f"
             ],
             [
              0.2222222222222222,
              "#7201a8"
             ],
             [
              0.3333333333333333,
              "#9c179e"
             ],
             [
              0.4444444444444444,
              "#bd3786"
             ],
             [
              0.5555555555555556,
              "#d8576b"
             ],
             [
              0.6666666666666666,
              "#ed7953"
             ],
             [
              0.7777777777777778,
              "#fb9f3a"
             ],
             [
              0.8888888888888888,
              "#fdca26"
             ],
             [
              1,
              "#f0f921"
             ]
            ],
            "type": "contour"
           }
          ],
          "contourcarpet": [
           {
            "colorbar": {
             "outlinewidth": 0,
             "ticks": ""
            },
            "type": "contourcarpet"
           }
          ],
          "heatmap": [
           {
            "colorbar": {
             "outlinewidth": 0,
             "ticks": ""
            },
            "colorscale": [
             [
              0,
              "#0d0887"
             ],
             [
              0.1111111111111111,
              "#46039f"
             ],
             [
              0.2222222222222222,
              "#7201a8"
             ],
             [
              0.3333333333333333,
              "#9c179e"
             ],
             [
              0.4444444444444444,
              "#bd3786"
             ],
             [
              0.5555555555555556,
              "#d8576b"
             ],
             [
              0.6666666666666666,
              "#ed7953"
             ],
             [
              0.7777777777777778,
              "#fb9f3a"
             ],
             [
              0.8888888888888888,
              "#fdca26"
             ],
             [
              1,
              "#f0f921"
             ]
            ],
            "type": "heatmap"
           }
          ],
          "heatmapgl": [
           {
            "colorbar": {
             "outlinewidth": 0,
             "ticks": ""
            },
            "colorscale": [
             [
              0,
              "#0d0887"
             ],
             [
              0.1111111111111111,
              "#46039f"
             ],
             [
              0.2222222222222222,
              "#7201a8"
             ],
             [
              0.3333333333333333,
              "#9c179e"
             ],
             [
              0.4444444444444444,
              "#bd3786"
             ],
             [
              0.5555555555555556,
              "#d8576b"
             ],
             [
              0.6666666666666666,
              "#ed7953"
             ],
             [
              0.7777777777777778,
              "#fb9f3a"
             ],
             [
              0.8888888888888888,
              "#fdca26"
             ],
             [
              1,
              "#f0f921"
             ]
            ],
            "type": "heatmapgl"
           }
          ],
          "histogram": [
           {
            "marker": {
             "pattern": {
              "fillmode": "overlay",
              "size": 10,
              "solidity": 0.2
             }
            },
            "type": "histogram"
           }
          ],
          "histogram2d": [
           {
            "colorbar": {
             "outlinewidth": 0,
             "ticks": ""
            },
            "colorscale": [
             [
              0,
              "#0d0887"
             ],
             [
              0.1111111111111111,
              "#46039f"
             ],
             [
              0.2222222222222222,
              "#7201a8"
             ],
             [
              0.3333333333333333,
              "#9c179e"
             ],
             [
              0.4444444444444444,
              "#bd3786"
             ],
             [
              0.5555555555555556,
              "#d8576b"
             ],
             [
              0.6666666666666666,
              "#ed7953"
             ],
             [
              0.7777777777777778,
              "#fb9f3a"
             ],
             [
              0.8888888888888888,
              "#fdca26"
             ],
             [
              1,
              "#f0f921"
             ]
            ],
            "type": "histogram2d"
           }
          ],
          "histogram2dcontour": [
           {
            "colorbar": {
             "outlinewidth": 0,
             "ticks": ""
            },
            "colorscale": [
             [
              0,
              "#0d0887"
             ],
             [
              0.1111111111111111,
              "#46039f"
             ],
             [
              0.2222222222222222,
              "#7201a8"
             ],
             [
              0.3333333333333333,
              "#9c179e"
             ],
             [
              0.4444444444444444,
              "#bd3786"
             ],
             [
              0.5555555555555556,
              "#d8576b"
             ],
             [
              0.6666666666666666,
              "#ed7953"
             ],
             [
              0.7777777777777778,
              "#fb9f3a"
             ],
             [
              0.8888888888888888,
              "#fdca26"
             ],
             [
              1,
              "#f0f921"
             ]
            ],
            "type": "histogram2dcontour"
           }
          ],
          "mesh3d": [
           {
            "colorbar": {
             "outlinewidth": 0,
             "ticks": ""
            },
            "type": "mesh3d"
           }
          ],
          "parcoords": [
           {
            "line": {
             "colorbar": {
              "outlinewidth": 0,
              "ticks": ""
             }
            },
            "type": "parcoords"
           }
          ],
          "pie": [
           {
            "automargin": true,
            "type": "pie"
           }
          ],
          "scatter": [
           {
            "marker": {
             "colorbar": {
              "outlinewidth": 0,
              "ticks": ""
             }
            },
            "type": "scatter"
           }
          ],
          "scatter3d": [
           {
            "line": {
             "colorbar": {
              "outlinewidth": 0,
              "ticks": ""
             }
            },
            "marker": {
             "colorbar": {
              "outlinewidth": 0,
              "ticks": ""
             }
            },
            "type": "scatter3d"
           }
          ],
          "scattercarpet": [
           {
            "marker": {
             "colorbar": {
              "outlinewidth": 0,
              "ticks": ""
             }
            },
            "type": "scattercarpet"
           }
          ],
          "scattergeo": [
           {
            "marker": {
             "colorbar": {
              "outlinewidth": 0,
              "ticks": ""
             }
            },
            "type": "scattergeo"
           }
          ],
          "scattergl": [
           {
            "marker": {
             "colorbar": {
              "outlinewidth": 0,
              "ticks": ""
             }
            },
            "type": "scattergl"
           }
          ],
          "scattermapbox": [
           {
            "marker": {
             "colorbar": {
              "outlinewidth": 0,
              "ticks": ""
             }
            },
            "type": "scattermapbox"
           }
          ],
          "scatterpolar": [
           {
            "marker": {
             "colorbar": {
              "outlinewidth": 0,
              "ticks": ""
             }
            },
            "type": "scatterpolar"
           }
          ],
          "scatterpolargl": [
           {
            "marker": {
             "colorbar": {
              "outlinewidth": 0,
              "ticks": ""
             }
            },
            "type": "scatterpolargl"
           }
          ],
          "scatterternary": [
           {
            "marker": {
             "colorbar": {
              "outlinewidth": 0,
              "ticks": ""
             }
            },
            "type": "scatterternary"
           }
          ],
          "surface": [
           {
            "colorbar": {
             "outlinewidth": 0,
             "ticks": ""
            },
            "colorscale": [
             [
              0,
              "#0d0887"
             ],
             [
              0.1111111111111111,
              "#46039f"
             ],
             [
              0.2222222222222222,
              "#7201a8"
             ],
             [
              0.3333333333333333,
              "#9c179e"
             ],
             [
              0.4444444444444444,
              "#bd3786"
             ],
             [
              0.5555555555555556,
              "#d8576b"
             ],
             [
              0.6666666666666666,
              "#ed7953"
             ],
             [
              0.7777777777777778,
              "#fb9f3a"
             ],
             [
              0.8888888888888888,
              "#fdca26"
             ],
             [
              1,
              "#f0f921"
             ]
            ],
            "type": "surface"
           }
          ],
          "table": [
           {
            "cells": {
             "fill": {
              "color": "#EBF0F8"
             },
             "line": {
              "color": "white"
             }
            },
            "header": {
             "fill": {
              "color": "#C8D4E3"
             },
             "line": {
              "color": "white"
             }
            },
            "type": "table"
           }
          ]
         },
         "layout": {
          "annotationdefaults": {
           "arrowcolor": "#2a3f5f",
           "arrowhead": 0,
           "arrowwidth": 1
          },
          "autotypenumbers": "strict",
          "coloraxis": {
           "colorbar": {
            "outlinewidth": 0,
            "ticks": ""
           }
          },
          "colorscale": {
           "diverging": [
            [
             0,
             "#8e0152"
            ],
            [
             0.1,
             "#c51b7d"
            ],
            [
             0.2,
             "#de77ae"
            ],
            [
             0.3,
             "#f1b6da"
            ],
            [
             0.4,
             "#fde0ef"
            ],
            [
             0.5,
             "#f7f7f7"
            ],
            [
             0.6,
             "#e6f5d0"
            ],
            [
             0.7,
             "#b8e186"
            ],
            [
             0.8,
             "#7fbc41"
            ],
            [
             0.9,
             "#4d9221"
            ],
            [
             1,
             "#276419"
            ]
           ],
           "sequential": [
            [
             0,
             "#0d0887"
            ],
            [
             0.1111111111111111,
             "#46039f"
            ],
            [
             0.2222222222222222,
             "#7201a8"
            ],
            [
             0.3333333333333333,
             "#9c179e"
            ],
            [
             0.4444444444444444,
             "#bd3786"
            ],
            [
             0.5555555555555556,
             "#d8576b"
            ],
            [
             0.6666666666666666,
             "#ed7953"
            ],
            [
             0.7777777777777778,
             "#fb9f3a"
            ],
            [
             0.8888888888888888,
             "#fdca26"
            ],
            [
             1,
             "#f0f921"
            ]
           ],
           "sequentialminus": [
            [
             0,
             "#0d0887"
            ],
            [
             0.1111111111111111,
             "#46039f"
            ],
            [
             0.2222222222222222,
             "#7201a8"
            ],
            [
             0.3333333333333333,
             "#9c179e"
            ],
            [
             0.4444444444444444,
             "#bd3786"
            ],
            [
             0.5555555555555556,
             "#d8576b"
            ],
            [
             0.6666666666666666,
             "#ed7953"
            ],
            [
             0.7777777777777778,
             "#fb9f3a"
            ],
            [
             0.8888888888888888,
             "#fdca26"
            ],
            [
             1,
             "#f0f921"
            ]
           ]
          },
          "colorway": [
           "#636efa",
           "#EF553B",
           "#00cc96",
           "#ab63fa",
           "#FFA15A",
           "#19d3f3",
           "#FF6692",
           "#B6E880",
           "#FF97FF",
           "#FECB52"
          ],
          "font": {
           "color": "#2a3f5f"
          },
          "geo": {
           "bgcolor": "white",
           "lakecolor": "white",
           "landcolor": "#E5ECF6",
           "showlakes": true,
           "showland": true,
           "subunitcolor": "white"
          },
          "hoverlabel": {
           "align": "left"
          },
          "hovermode": "closest",
          "mapbox": {
           "style": "light"
          },
          "paper_bgcolor": "white",
          "plot_bgcolor": "#E5ECF6",
          "polar": {
           "angularaxis": {
            "gridcolor": "white",
            "linecolor": "white",
            "ticks": ""
           },
           "bgcolor": "#E5ECF6",
           "radialaxis": {
            "gridcolor": "white",
            "linecolor": "white",
            "ticks": ""
           }
          },
          "scene": {
           "xaxis": {
            "backgroundcolor": "#E5ECF6",
            "gridcolor": "white",
            "gridwidth": 2,
            "linecolor": "white",
            "showbackground": true,
            "ticks": "",
            "zerolinecolor": "white"
           },
           "yaxis": {
            "backgroundcolor": "#E5ECF6",
            "gridcolor": "white",
            "gridwidth": 2,
            "linecolor": "white",
            "showbackground": true,
            "ticks": "",
            "zerolinecolor": "white"
           },
           "zaxis": {
            "backgroundcolor": "#E5ECF6",
            "gridcolor": "white",
            "gridwidth": 2,
            "linecolor": "white",
            "showbackground": true,
            "ticks": "",
            "zerolinecolor": "white"
           }
          },
          "shapedefaults": {
           "line": {
            "color": "#2a3f5f"
           }
          },
          "ternary": {
           "aaxis": {
            "gridcolor": "white",
            "linecolor": "white",
            "ticks": ""
           },
           "baxis": {
            "gridcolor": "white",
            "linecolor": "white",
            "ticks": ""
           },
           "bgcolor": "#E5ECF6",
           "caxis": {
            "gridcolor": "white",
            "linecolor": "white",
            "ticks": ""
           }
          },
          "title": {
           "x": 0.05
          },
          "xaxis": {
           "automargin": true,
           "gridcolor": "white",
           "linecolor": "white",
           "ticks": "",
           "title": {
            "standoff": 15
           },
           "zerolinecolor": "white",
           "zerolinewidth": 2
          },
          "yaxis": {
           "automargin": true,
           "gridcolor": "white",
           "linecolor": "white",
           "ticks": "",
           "title": {
            "standoff": 15
           },
           "zerolinecolor": "white",
           "zerolinewidth": 2
          }
         }
        },
        "title": {
         "font": {
          "color": "#4D5663"
         },
         "text": "Gráfico de barras"
        },
        "xaxis": {
         "gridcolor": "#E1E5ED",
         "showgrid": true,
         "tickfont": {
          "color": "#4D5663"
         },
         "title": {
          "font": {
           "color": "#4D5663"
          },
          "text": ""
         },
         "zerolinecolor": "#E1E5ED"
        },
        "yaxis": {
         "gridcolor": "#E1E5ED",
         "showgrid": true,
         "tickfont": {
          "color": "#4D5663"
         },
         "title": {
          "font": {
           "color": "#4D5663"
          },
          "text": ""
         },
         "zerolinecolor": "#E1E5ED"
        }
       }
      },
      "text/html": [
       "<div>                            <div id=\"4c29080c-09ea-473e-ae1a-fb33de636477\" class=\"plotly-graph-div\" style=\"height:525px; width:100%;\"></div>            <script type=\"text/javascript\">                require([\"plotly\"], function(Plotly) {                    window.PLOTLYENV=window.PLOTLYENV || {};\n",
       "                    window.PLOTLYENV.BASE_URL='https://plot.ly';                                    if (document.getElementById(\"4c29080c-09ea-473e-ae1a-fb33de636477\")) {                    Plotly.newPlot(                        \"4c29080c-09ea-473e-ae1a-fb33de636477\",                        [{\"marker\":{\"color\":\"rgba(255, 153, 51, 0.6)\",\"line\":{\"color\":\"rgba(255, 153, 51, 1.0)\",\"width\":1}},\"name\":\"None\",\"orientation\":\"v\",\"text\":\"\",\"type\":\"bar\",\"x\":[\"acousticness\",\"danceability\",\"energy\",\"instrumentalness\",\"liveness\",\"speechiness\",\"valence\"],\"y\":[32.5326183,93.162,109.16015,8.553262530000001,67.4877,31.9117,67.28699999999999]}],                        {\"legend\":{\"bgcolor\":\"#F5F6F9\",\"font\":{\"color\":\"#4D5663\"}},\"paper_bgcolor\":\"#F5F6F9\",\"plot_bgcolor\":\"#F5F6F9\",\"template\":{\"data\":{\"bar\":[{\"error_x\":{\"color\":\"#2a3f5f\"},\"error_y\":{\"color\":\"#2a3f5f\"},\"marker\":{\"line\":{\"color\":\"#E5ECF6\",\"width\":0.5},\"pattern\":{\"fillmode\":\"overlay\",\"size\":10,\"solidity\":0.2}},\"type\":\"bar\"}],\"barpolar\":[{\"marker\":{\"line\":{\"color\":\"#E5ECF6\",\"width\":0.5},\"pattern\":{\"fillmode\":\"overlay\",\"size\":10,\"solidity\":0.2}},\"type\":\"barpolar\"}],\"carpet\":[{\"aaxis\":{\"endlinecolor\":\"#2a3f5f\",\"gridcolor\":\"white\",\"linecolor\":\"white\",\"minorgridcolor\":\"white\",\"startlinecolor\":\"#2a3f5f\"},\"baxis\":{\"endlinecolor\":\"#2a3f5f\",\"gridcolor\":\"white\",\"linecolor\":\"white\",\"minorgridcolor\":\"white\",\"startlinecolor\":\"#2a3f5f\"},\"type\":\"carpet\"}],\"choropleth\":[{\"colorbar\":{\"outlinewidth\":0,\"ticks\":\"\"},\"type\":\"choropleth\"}],\"contour\":[{\"colorbar\":{\"outlinewidth\":0,\"ticks\":\"\"},\"colorscale\":[[0.0,\"#0d0887\"],[0.1111111111111111,\"#46039f\"],[0.2222222222222222,\"#7201a8\"],[0.3333333333333333,\"#9c179e\"],[0.4444444444444444,\"#bd3786\"],[0.5555555555555556,\"#d8576b\"],[0.6666666666666666,\"#ed7953\"],[0.7777777777777778,\"#fb9f3a\"],[0.8888888888888888,\"#fdca26\"],[1.0,\"#f0f921\"]],\"type\":\"contour\"}],\"contourcarpet\":[{\"colorbar\":{\"outlinewidth\":0,\"ticks\":\"\"},\"type\":\"contourcarpet\"}],\"heatmap\":[{\"colorbar\":{\"outlinewidth\":0,\"ticks\":\"\"},\"colorscale\":[[0.0,\"#0d0887\"],[0.1111111111111111,\"#46039f\"],[0.2222222222222222,\"#7201a8\"],[0.3333333333333333,\"#9c179e\"],[0.4444444444444444,\"#bd3786\"],[0.5555555555555556,\"#d8576b\"],[0.6666666666666666,\"#ed7953\"],[0.7777777777777778,\"#fb9f3a\"],[0.8888888888888888,\"#fdca26\"],[1.0,\"#f0f921\"]],\"type\":\"heatmap\"}],\"heatmapgl\":[{\"colorbar\":{\"outlinewidth\":0,\"ticks\":\"\"},\"colorscale\":[[0.0,\"#0d0887\"],[0.1111111111111111,\"#46039f\"],[0.2222222222222222,\"#7201a8\"],[0.3333333333333333,\"#9c179e\"],[0.4444444444444444,\"#bd3786\"],[0.5555555555555556,\"#d8576b\"],[0.6666666666666666,\"#ed7953\"],[0.7777777777777778,\"#fb9f3a\"],[0.8888888888888888,\"#fdca26\"],[1.0,\"#f0f921\"]],\"type\":\"heatmapgl\"}],\"histogram\":[{\"marker\":{\"pattern\":{\"fillmode\":\"overlay\",\"size\":10,\"solidity\":0.2}},\"type\":\"histogram\"}],\"histogram2d\":[{\"colorbar\":{\"outlinewidth\":0,\"ticks\":\"\"},\"colorscale\":[[0.0,\"#0d0887\"],[0.1111111111111111,\"#46039f\"],[0.2222222222222222,\"#7201a8\"],[0.3333333333333333,\"#9c179e\"],[0.4444444444444444,\"#bd3786\"],[0.5555555555555556,\"#d8576b\"],[0.6666666666666666,\"#ed7953\"],[0.7777777777777778,\"#fb9f3a\"],[0.8888888888888888,\"#fdca26\"],[1.0,\"#f0f921\"]],\"type\":\"histogram2d\"}],\"histogram2dcontour\":[{\"colorbar\":{\"outlinewidth\":0,\"ticks\":\"\"},\"colorscale\":[[0.0,\"#0d0887\"],[0.1111111111111111,\"#46039f\"],[0.2222222222222222,\"#7201a8\"],[0.3333333333333333,\"#9c179e\"],[0.4444444444444444,\"#bd3786\"],[0.5555555555555556,\"#d8576b\"],[0.6666666666666666,\"#ed7953\"],[0.7777777777777778,\"#fb9f3a\"],[0.8888888888888888,\"#fdca26\"],[1.0,\"#f0f921\"]],\"type\":\"histogram2dcontour\"}],\"mesh3d\":[{\"colorbar\":{\"outlinewidth\":0,\"ticks\":\"\"},\"type\":\"mesh3d\"}],\"parcoords\":[{\"line\":{\"colorbar\":{\"outlinewidth\":0,\"ticks\":\"\"}},\"type\":\"parcoords\"}],\"pie\":[{\"automargin\":true,\"type\":\"pie\"}],\"scatter\":[{\"marker\":{\"colorbar\":{\"outlinewidth\":0,\"ticks\":\"\"}},\"type\":\"scatter\"}],\"scatter3d\":[{\"line\":{\"colorbar\":{\"outlinewidth\":0,\"ticks\":\"\"}},\"marker\":{\"colorbar\":{\"outlinewidth\":0,\"ticks\":\"\"}},\"type\":\"scatter3d\"}],\"scattercarpet\":[{\"marker\":{\"colorbar\":{\"outlinewidth\":0,\"ticks\":\"\"}},\"type\":\"scattercarpet\"}],\"scattergeo\":[{\"marker\":{\"colorbar\":{\"outlinewidth\":0,\"ticks\":\"\"}},\"type\":\"scattergeo\"}],\"scattergl\":[{\"marker\":{\"colorbar\":{\"outlinewidth\":0,\"ticks\":\"\"}},\"type\":\"scattergl\"}],\"scattermapbox\":[{\"marker\":{\"colorbar\":{\"outlinewidth\":0,\"ticks\":\"\"}},\"type\":\"scattermapbox\"}],\"scatterpolar\":[{\"marker\":{\"colorbar\":{\"outlinewidth\":0,\"ticks\":\"\"}},\"type\":\"scatterpolar\"}],\"scatterpolargl\":[{\"marker\":{\"colorbar\":{\"outlinewidth\":0,\"ticks\":\"\"}},\"type\":\"scatterpolargl\"}],\"scatterternary\":[{\"marker\":{\"colorbar\":{\"outlinewidth\":0,\"ticks\":\"\"}},\"type\":\"scatterternary\"}],\"surface\":[{\"colorbar\":{\"outlinewidth\":0,\"ticks\":\"\"},\"colorscale\":[[0.0,\"#0d0887\"],[0.1111111111111111,\"#46039f\"],[0.2222222222222222,\"#7201a8\"],[0.3333333333333333,\"#9c179e\"],[0.4444444444444444,\"#bd3786\"],[0.5555555555555556,\"#d8576b\"],[0.6666666666666666,\"#ed7953\"],[0.7777777777777778,\"#fb9f3a\"],[0.8888888888888888,\"#fdca26\"],[1.0,\"#f0f921\"]],\"type\":\"surface\"}],\"table\":[{\"cells\":{\"fill\":{\"color\":\"#EBF0F8\"},\"line\":{\"color\":\"white\"}},\"header\":{\"fill\":{\"color\":\"#C8D4E3\"},\"line\":{\"color\":\"white\"}},\"type\":\"table\"}]},\"layout\":{\"annotationdefaults\":{\"arrowcolor\":\"#2a3f5f\",\"arrowhead\":0,\"arrowwidth\":1},\"autotypenumbers\":\"strict\",\"coloraxis\":{\"colorbar\":{\"outlinewidth\":0,\"ticks\":\"\"}},\"colorscale\":{\"diverging\":[[0,\"#8e0152\"],[0.1,\"#c51b7d\"],[0.2,\"#de77ae\"],[0.3,\"#f1b6da\"],[0.4,\"#fde0ef\"],[0.5,\"#f7f7f7\"],[0.6,\"#e6f5d0\"],[0.7,\"#b8e186\"],[0.8,\"#7fbc41\"],[0.9,\"#4d9221\"],[1,\"#276419\"]],\"sequential\":[[0.0,\"#0d0887\"],[0.1111111111111111,\"#46039f\"],[0.2222222222222222,\"#7201a8\"],[0.3333333333333333,\"#9c179e\"],[0.4444444444444444,\"#bd3786\"],[0.5555555555555556,\"#d8576b\"],[0.6666666666666666,\"#ed7953\"],[0.7777777777777778,\"#fb9f3a\"],[0.8888888888888888,\"#fdca26\"],[1.0,\"#f0f921\"]],\"sequentialminus\":[[0.0,\"#0d0887\"],[0.1111111111111111,\"#46039f\"],[0.2222222222222222,\"#7201a8\"],[0.3333333333333333,\"#9c179e\"],[0.4444444444444444,\"#bd3786\"],[0.5555555555555556,\"#d8576b\"],[0.6666666666666666,\"#ed7953\"],[0.7777777777777778,\"#fb9f3a\"],[0.8888888888888888,\"#fdca26\"],[1.0,\"#f0f921\"]]},\"colorway\":[\"#636efa\",\"#EF553B\",\"#00cc96\",\"#ab63fa\",\"#FFA15A\",\"#19d3f3\",\"#FF6692\",\"#B6E880\",\"#FF97FF\",\"#FECB52\"],\"font\":{\"color\":\"#2a3f5f\"},\"geo\":{\"bgcolor\":\"white\",\"lakecolor\":\"white\",\"landcolor\":\"#E5ECF6\",\"showlakes\":true,\"showland\":true,\"subunitcolor\":\"white\"},\"hoverlabel\":{\"align\":\"left\"},\"hovermode\":\"closest\",\"mapbox\":{\"style\":\"light\"},\"paper_bgcolor\":\"white\",\"plot_bgcolor\":\"#E5ECF6\",\"polar\":{\"angularaxis\":{\"gridcolor\":\"white\",\"linecolor\":\"white\",\"ticks\":\"\"},\"bgcolor\":\"#E5ECF6\",\"radialaxis\":{\"gridcolor\":\"white\",\"linecolor\":\"white\",\"ticks\":\"\"}},\"scene\":{\"xaxis\":{\"backgroundcolor\":\"#E5ECF6\",\"gridcolor\":\"white\",\"gridwidth\":2,\"linecolor\":\"white\",\"showbackground\":true,\"ticks\":\"\",\"zerolinecolor\":\"white\"},\"yaxis\":{\"backgroundcolor\":\"#E5ECF6\",\"gridcolor\":\"white\",\"gridwidth\":2,\"linecolor\":\"white\",\"showbackground\":true,\"ticks\":\"\",\"zerolinecolor\":\"white\"},\"zaxis\":{\"backgroundcolor\":\"#E5ECF6\",\"gridcolor\":\"white\",\"gridwidth\":2,\"linecolor\":\"white\",\"showbackground\":true,\"ticks\":\"\",\"zerolinecolor\":\"white\"}},\"shapedefaults\":{\"line\":{\"color\":\"#2a3f5f\"}},\"ternary\":{\"aaxis\":{\"gridcolor\":\"white\",\"linecolor\":\"white\",\"ticks\":\"\"},\"baxis\":{\"gridcolor\":\"white\",\"linecolor\":\"white\",\"ticks\":\"\"},\"bgcolor\":\"#E5ECF6\",\"caxis\":{\"gridcolor\":\"white\",\"linecolor\":\"white\",\"ticks\":\"\"}},\"title\":{\"x\":0.05},\"xaxis\":{\"automargin\":true,\"gridcolor\":\"white\",\"linecolor\":\"white\",\"ticks\":\"\",\"title\":{\"standoff\":15},\"zerolinecolor\":\"white\",\"zerolinewidth\":2},\"yaxis\":{\"automargin\":true,\"gridcolor\":\"white\",\"linecolor\":\"white\",\"ticks\":\"\",\"title\":{\"standoff\":15},\"zerolinecolor\":\"white\",\"zerolinewidth\":2}}},\"title\":{\"font\":{\"color\":\"#4D5663\"},\"text\":\"Gr\\u00e1fico de barras\"},\"xaxis\":{\"gridcolor\":\"#E1E5ED\",\"showgrid\":true,\"tickfont\":{\"color\":\"#4D5663\"},\"title\":{\"font\":{\"color\":\"#4D5663\"},\"text\":\"\"},\"zerolinecolor\":\"#E1E5ED\"},\"yaxis\":{\"gridcolor\":\"#E1E5ED\",\"showgrid\":true,\"tickfont\":{\"color\":\"#4D5663\"},\"title\":{\"font\":{\"color\":\"#4D5663\"},\"text\":\"\"},\"zerolinecolor\":\"#E1E5ED\"}},                        {\"showLink\": true, \"linkText\": \"Export to plot.ly\", \"plotlyServerURL\": \"https://plot.ly\", \"responsive\": true}                    ).then(function(){\n",
       "                            \n",
       "var gd = document.getElementById('4c29080c-09ea-473e-ae1a-fb33de636477');\n",
       "var x = new MutationObserver(function (mutations, observer) {{\n",
       "        var display = window.getComputedStyle(gd).display;\n",
       "        if (!display || display === 'none') {{\n",
       "            console.log([gd, 'removed!']);\n",
       "            Plotly.purge(gd);\n",
       "            observer.disconnect();\n",
       "        }}\n",
       "}});\n",
       "\n",
       "// Listen for the removal of the full notebook cells\n",
       "var notebookContainer = gd.closest('#notebook-container');\n",
       "if (notebookContainer) {{\n",
       "    x.observe(notebookContainer, {childList: true});\n",
       "}}\n",
       "\n",
       "// Listen for the clearing of the current output cell\n",
       "var outputEl = gd.closest('.output');\n",
       "if (outputEl) {{\n",
       "    x.observe(outputEl, {childList: true});\n",
       "}}\n",
       "\n",
       "                        })                };                });            </script>        </div>"
      ]
     },
     "metadata": {},
     "output_type": "display_data"
    }
   ],
   "source": [
    "\"\"\"O gráfico abaixo possibilita a visualização geral de todas as faixas do artista.\"\"\"\n",
    "\n",
    "DF_2.sum().iplot(kind='bar', title='Gráfico de barras')"
   ]
  },
  {
   "cell_type": "code",
   "execution_count": 31,
   "metadata": {},
   "outputs": [
    {
     "data": {
      "application/vnd.plotly.v1+json": {
       "config": {
        "plotlyServerURL": "https://plot.ly"
       },
       "data": [
        {
         "coloraxis": "coloraxis",
         "hovertemplate": "x: %{x}<br>y: %{y}<br>color: %{z}<extra></extra>",
         "name": "0",
         "type": "heatmap",
         "x": [
          "acousticness",
          "danceability",
          "energy",
          "instrumentalness",
          "liveness",
          "speechiness",
          "valence"
         ],
         "xaxis": "x",
         "y": [
          "acousticness",
          "danceability",
          "energy",
          "instrumentalness",
          "liveness",
          "speechiness",
          "valence"
         ],
         "yaxis": "y",
         "z": [
          [
           1,
           -0.4052440110249612,
           -0.6918071891381284,
           -0.07233109190082922,
           -0.15337444989329543,
           0.08433626471418267,
           -0.23619938631681292
          ],
          [
           -0.4052440110249612,
           1,
           0.3248503279601588,
           -0.05530551711961711,
           -0.23489574290840856,
           -0.02891478480953375,
           0.6195376250109058
          ],
          [
           -0.6918071891381284,
           0.3248503279601588,
           1,
           -0.059818339058785336,
           0.35478292495716307,
           0.17824077966976287,
           0.3132337298111359
          ],
          [
           -0.07233109190082922,
           -0.05530551711961711,
           -0.059818339058785336,
           1,
           -0.11916571906423615,
           -0.14112794331488687,
           -0.06042160228020822
          ],
          [
           -0.15337444989329543,
           -0.23489574290840856,
           0.35478292495716307,
           -0.11916571906423615,
           1,
           0.4082751949546823,
           -0.1540832380355988
          ],
          [
           0.08433626471418267,
           -0.02891478480953375,
           0.17824077966976287,
           -0.14112794331488687,
           0.4082751949546823,
           1,
           0.09192262382772068
          ],
          [
           -0.23619938631681292,
           0.6195376250109058,
           0.3132337298111359,
           -0.06042160228020822,
           -0.1540832380355988,
           0.09192262382772068,
           1
          ]
         ]
        }
       ],
       "layout": {
        "coloraxis": {
         "colorscale": [
          [
           0,
           "#0d0887"
          ],
          [
           0.1111111111111111,
           "#46039f"
          ],
          [
           0.2222222222222222,
           "#7201a8"
          ],
          [
           0.3333333333333333,
           "#9c179e"
          ],
          [
           0.4444444444444444,
           "#bd3786"
          ],
          [
           0.5555555555555556,
           "#d8576b"
          ],
          [
           0.6666666666666666,
           "#ed7953"
          ],
          [
           0.7777777777777778,
           "#fb9f3a"
          ],
          [
           0.8888888888888888,
           "#fdca26"
          ],
          [
           1,
           "#f0f921"
          ]
         ]
        },
        "margin": {
         "t": 60
        },
        "template": {
         "data": {
          "bar": [
           {
            "error_x": {
             "color": "#2a3f5f"
            },
            "error_y": {
             "color": "#2a3f5f"
            },
            "marker": {
             "line": {
              "color": "#E5ECF6",
              "width": 0.5
             },
             "pattern": {
              "fillmode": "overlay",
              "size": 10,
              "solidity": 0.2
             }
            },
            "type": "bar"
           }
          ],
          "barpolar": [
           {
            "marker": {
             "line": {
              "color": "#E5ECF6",
              "width": 0.5
             },
             "pattern": {
              "fillmode": "overlay",
              "size": 10,
              "solidity": 0.2
             }
            },
            "type": "barpolar"
           }
          ],
          "carpet": [
           {
            "aaxis": {
             "endlinecolor": "#2a3f5f",
             "gridcolor": "white",
             "linecolor": "white",
             "minorgridcolor": "white",
             "startlinecolor": "#2a3f5f"
            },
            "baxis": {
             "endlinecolor": "#2a3f5f",
             "gridcolor": "white",
             "linecolor": "white",
             "minorgridcolor": "white",
             "startlinecolor": "#2a3f5f"
            },
            "type": "carpet"
           }
          ],
          "choropleth": [
           {
            "colorbar": {
             "outlinewidth": 0,
             "ticks": ""
            },
            "type": "choropleth"
           }
          ],
          "contour": [
           {
            "colorbar": {
             "outlinewidth": 0,
             "ticks": ""
            },
            "colorscale": [
             [
              0,
              "#0d0887"
             ],
             [
              0.1111111111111111,
              "#46039f"
             ],
             [
              0.2222222222222222,
              "#7201a8"
             ],
             [
              0.3333333333333333,
              "#9c179e"
             ],
             [
              0.4444444444444444,
              "#bd3786"
             ],
             [
              0.5555555555555556,
              "#d8576b"
             ],
             [
              0.6666666666666666,
              "#ed7953"
             ],
             [
              0.7777777777777778,
              "#fb9f3a"
             ],
             [
              0.8888888888888888,
              "#fdca26"
             ],
             [
              1,
              "#f0f921"
             ]
            ],
            "type": "contour"
           }
          ],
          "contourcarpet": [
           {
            "colorbar": {
             "outlinewidth": 0,
             "ticks": ""
            },
            "type": "contourcarpet"
           }
          ],
          "heatmap": [
           {
            "colorbar": {
             "outlinewidth": 0,
             "ticks": ""
            },
            "colorscale": [
             [
              0,
              "#0d0887"
             ],
             [
              0.1111111111111111,
              "#46039f"
             ],
             [
              0.2222222222222222,
              "#7201a8"
             ],
             [
              0.3333333333333333,
              "#9c179e"
             ],
             [
              0.4444444444444444,
              "#bd3786"
             ],
             [
              0.5555555555555556,
              "#d8576b"
             ],
             [
              0.6666666666666666,
              "#ed7953"
             ],
             [
              0.7777777777777778,
              "#fb9f3a"
             ],
             [
              0.8888888888888888,
              "#fdca26"
             ],
             [
              1,
              "#f0f921"
             ]
            ],
            "type": "heatmap"
           }
          ],
          "heatmapgl": [
           {
            "colorbar": {
             "outlinewidth": 0,
             "ticks": ""
            },
            "colorscale": [
             [
              0,
              "#0d0887"
             ],
             [
              0.1111111111111111,
              "#46039f"
             ],
             [
              0.2222222222222222,
              "#7201a8"
             ],
             [
              0.3333333333333333,
              "#9c179e"
             ],
             [
              0.4444444444444444,
              "#bd3786"
             ],
             [
              0.5555555555555556,
              "#d8576b"
             ],
             [
              0.6666666666666666,
              "#ed7953"
             ],
             [
              0.7777777777777778,
              "#fb9f3a"
             ],
             [
              0.8888888888888888,
              "#fdca26"
             ],
             [
              1,
              "#f0f921"
             ]
            ],
            "type": "heatmapgl"
           }
          ],
          "histogram": [
           {
            "marker": {
             "pattern": {
              "fillmode": "overlay",
              "size": 10,
              "solidity": 0.2
             }
            },
            "type": "histogram"
           }
          ],
          "histogram2d": [
           {
            "colorbar": {
             "outlinewidth": 0,
             "ticks": ""
            },
            "colorscale": [
             [
              0,
              "#0d0887"
             ],
             [
              0.1111111111111111,
              "#46039f"
             ],
             [
              0.2222222222222222,
              "#7201a8"
             ],
             [
              0.3333333333333333,
              "#9c179e"
             ],
             [
              0.4444444444444444,
              "#bd3786"
             ],
             [
              0.5555555555555556,
              "#d8576b"
             ],
             [
              0.6666666666666666,
              "#ed7953"
             ],
             [
              0.7777777777777778,
              "#fb9f3a"
             ],
             [
              0.8888888888888888,
              "#fdca26"
             ],
             [
              1,
              "#f0f921"
             ]
            ],
            "type": "histogram2d"
           }
          ],
          "histogram2dcontour": [
           {
            "colorbar": {
             "outlinewidth": 0,
             "ticks": ""
            },
            "colorscale": [
             [
              0,
              "#0d0887"
             ],
             [
              0.1111111111111111,
              "#46039f"
             ],
             [
              0.2222222222222222,
              "#7201a8"
             ],
             [
              0.3333333333333333,
              "#9c179e"
             ],
             [
              0.4444444444444444,
              "#bd3786"
             ],
             [
              0.5555555555555556,
              "#d8576b"
             ],
             [
              0.6666666666666666,
              "#ed7953"
             ],
             [
              0.7777777777777778,
              "#fb9f3a"
             ],
             [
              0.8888888888888888,
              "#fdca26"
             ],
             [
              1,
              "#f0f921"
             ]
            ],
            "type": "histogram2dcontour"
           }
          ],
          "mesh3d": [
           {
            "colorbar": {
             "outlinewidth": 0,
             "ticks": ""
            },
            "type": "mesh3d"
           }
          ],
          "parcoords": [
           {
            "line": {
             "colorbar": {
              "outlinewidth": 0,
              "ticks": ""
             }
            },
            "type": "parcoords"
           }
          ],
          "pie": [
           {
            "automargin": true,
            "type": "pie"
           }
          ],
          "scatter": [
           {
            "marker": {
             "colorbar": {
              "outlinewidth": 0,
              "ticks": ""
             }
            },
            "type": "scatter"
           }
          ],
          "scatter3d": [
           {
            "line": {
             "colorbar": {
              "outlinewidth": 0,
              "ticks": ""
             }
            },
            "marker": {
             "colorbar": {
              "outlinewidth": 0,
              "ticks": ""
             }
            },
            "type": "scatter3d"
           }
          ],
          "scattercarpet": [
           {
            "marker": {
             "colorbar": {
              "outlinewidth": 0,
              "ticks": ""
             }
            },
            "type": "scattercarpet"
           }
          ],
          "scattergeo": [
           {
            "marker": {
             "colorbar": {
              "outlinewidth": 0,
              "ticks": ""
             }
            },
            "type": "scattergeo"
           }
          ],
          "scattergl": [
           {
            "marker": {
             "colorbar": {
              "outlinewidth": 0,
              "ticks": ""
             }
            },
            "type": "scattergl"
           }
          ],
          "scattermapbox": [
           {
            "marker": {
             "colorbar": {
              "outlinewidth": 0,
              "ticks": ""
             }
            },
            "type": "scattermapbox"
           }
          ],
          "scatterpolar": [
           {
            "marker": {
             "colorbar": {
              "outlinewidth": 0,
              "ticks": ""
             }
            },
            "type": "scatterpolar"
           }
          ],
          "scatterpolargl": [
           {
            "marker": {
             "colorbar": {
              "outlinewidth": 0,
              "ticks": ""
             }
            },
            "type": "scatterpolargl"
           }
          ],
          "scatterternary": [
           {
            "marker": {
             "colorbar": {
              "outlinewidth": 0,
              "ticks": ""
             }
            },
            "type": "scatterternary"
           }
          ],
          "surface": [
           {
            "colorbar": {
             "outlinewidth": 0,
             "ticks": ""
            },
            "colorscale": [
             [
              0,
              "#0d0887"
             ],
             [
              0.1111111111111111,
              "#46039f"
             ],
             [
              0.2222222222222222,
              "#7201a8"
             ],
             [
              0.3333333333333333,
              "#9c179e"
             ],
             [
              0.4444444444444444,
              "#bd3786"
             ],
             [
              0.5555555555555556,
              "#d8576b"
             ],
             [
              0.6666666666666666,
              "#ed7953"
             ],
             [
              0.7777777777777778,
              "#fb9f3a"
             ],
             [
              0.8888888888888888,
              "#fdca26"
             ],
             [
              1,
              "#f0f921"
             ]
            ],
            "type": "surface"
           }
          ],
          "table": [
           {
            "cells": {
             "fill": {
              "color": "#EBF0F8"
             },
             "line": {
              "color": "white"
             }
            },
            "header": {
             "fill": {
              "color": "#C8D4E3"
             },
             "line": {
              "color": "white"
             }
            },
            "type": "table"
           }
          ]
         },
         "layout": {
          "annotationdefaults": {
           "arrowcolor": "#2a3f5f",
           "arrowhead": 0,
           "arrowwidth": 1
          },
          "autotypenumbers": "strict",
          "coloraxis": {
           "colorbar": {
            "outlinewidth": 0,
            "ticks": ""
           }
          },
          "colorscale": {
           "diverging": [
            [
             0,
             "#8e0152"
            ],
            [
             0.1,
             "#c51b7d"
            ],
            [
             0.2,
             "#de77ae"
            ],
            [
             0.3,
             "#f1b6da"
            ],
            [
             0.4,
             "#fde0ef"
            ],
            [
             0.5,
             "#f7f7f7"
            ],
            [
             0.6,
             "#e6f5d0"
            ],
            [
             0.7,
             "#b8e186"
            ],
            [
             0.8,
             "#7fbc41"
            ],
            [
             0.9,
             "#4d9221"
            ],
            [
             1,
             "#276419"
            ]
           ],
           "sequential": [
            [
             0,
             "#0d0887"
            ],
            [
             0.1111111111111111,
             "#46039f"
            ],
            [
             0.2222222222222222,
             "#7201a8"
            ],
            [
             0.3333333333333333,
             "#9c179e"
            ],
            [
             0.4444444444444444,
             "#bd3786"
            ],
            [
             0.5555555555555556,
             "#d8576b"
            ],
            [
             0.6666666666666666,
             "#ed7953"
            ],
            [
             0.7777777777777778,
             "#fb9f3a"
            ],
            [
             0.8888888888888888,
             "#fdca26"
            ],
            [
             1,
             "#f0f921"
            ]
           ],
           "sequentialminus": [
            [
             0,
             "#0d0887"
            ],
            [
             0.1111111111111111,
             "#46039f"
            ],
            [
             0.2222222222222222,
             "#7201a8"
            ],
            [
             0.3333333333333333,
             "#9c179e"
            ],
            [
             0.4444444444444444,
             "#bd3786"
            ],
            [
             0.5555555555555556,
             "#d8576b"
            ],
            [
             0.6666666666666666,
             "#ed7953"
            ],
            [
             0.7777777777777778,
             "#fb9f3a"
            ],
            [
             0.8888888888888888,
             "#fdca26"
            ],
            [
             1,
             "#f0f921"
            ]
           ]
          },
          "colorway": [
           "#636efa",
           "#EF553B",
           "#00cc96",
           "#ab63fa",
           "#FFA15A",
           "#19d3f3",
           "#FF6692",
           "#B6E880",
           "#FF97FF",
           "#FECB52"
          ],
          "font": {
           "color": "#2a3f5f"
          },
          "geo": {
           "bgcolor": "white",
           "lakecolor": "white",
           "landcolor": "#E5ECF6",
           "showlakes": true,
           "showland": true,
           "subunitcolor": "white"
          },
          "hoverlabel": {
           "align": "left"
          },
          "hovermode": "closest",
          "mapbox": {
           "style": "light"
          },
          "paper_bgcolor": "white",
          "plot_bgcolor": "#E5ECF6",
          "polar": {
           "angularaxis": {
            "gridcolor": "white",
            "linecolor": "white",
            "ticks": ""
           },
           "bgcolor": "#E5ECF6",
           "radialaxis": {
            "gridcolor": "white",
            "linecolor": "white",
            "ticks": ""
           }
          },
          "scene": {
           "xaxis": {
            "backgroundcolor": "#E5ECF6",
            "gridcolor": "white",
            "gridwidth": 2,
            "linecolor": "white",
            "showbackground": true,
            "ticks": "",
            "zerolinecolor": "white"
           },
           "yaxis": {
            "backgroundcolor": "#E5ECF6",
            "gridcolor": "white",
            "gridwidth": 2,
            "linecolor": "white",
            "showbackground": true,
            "ticks": "",
            "zerolinecolor": "white"
           },
           "zaxis": {
            "backgroundcolor": "#E5ECF6",
            "gridcolor": "white",
            "gridwidth": 2,
            "linecolor": "white",
            "showbackground": true,
            "ticks": "",
            "zerolinecolor": "white"
           }
          },
          "shapedefaults": {
           "line": {
            "color": "#2a3f5f"
           }
          },
          "ternary": {
           "aaxis": {
            "gridcolor": "white",
            "linecolor": "white",
            "ticks": ""
           },
           "baxis": {
            "gridcolor": "white",
            "linecolor": "white",
            "ticks": ""
           },
           "bgcolor": "#E5ECF6",
           "caxis": {
            "gridcolor": "white",
            "linecolor": "white",
            "ticks": ""
           }
          },
          "title": {
           "x": 0.05
          },
          "xaxis": {
           "automargin": true,
           "gridcolor": "white",
           "linecolor": "white",
           "ticks": "",
           "title": {
            "standoff": 15
           },
           "zerolinecolor": "white",
           "zerolinewidth": 2
          },
          "yaxis": {
           "automargin": true,
           "gridcolor": "white",
           "linecolor": "white",
           "ticks": "",
           "title": {
            "standoff": 15
           },
           "zerolinecolor": "white",
           "zerolinewidth": 2
          }
         }
        },
        "xaxis": {
         "anchor": "y",
         "constrain": "domain",
         "domain": [
          0,
          1
         ],
         "scaleanchor": "y"
        },
        "yaxis": {
         "anchor": "x",
         "autorange": "reversed",
         "constrain": "domain",
         "domain": [
          0,
          1
         ]
        }
       }
      },
      "text/html": [
       "<div>                            <div id=\"1234c7c8-6983-4d6d-b132-dfcb3792bd0a\" class=\"plotly-graph-div\" style=\"height:525px; width:100%;\"></div>            <script type=\"text/javascript\">                require([\"plotly\"], function(Plotly) {                    window.PLOTLYENV=window.PLOTLYENV || {};                                    if (document.getElementById(\"1234c7c8-6983-4d6d-b132-dfcb3792bd0a\")) {                    Plotly.newPlot(                        \"1234c7c8-6983-4d6d-b132-dfcb3792bd0a\",                        [{\"coloraxis\":\"coloraxis\",\"hovertemplate\":\"x: %{x}<br>y: %{y}<br>color: %{z}<extra></extra>\",\"name\":\"0\",\"type\":\"heatmap\",\"x\":[\"acousticness\",\"danceability\",\"energy\",\"instrumentalness\",\"liveness\",\"speechiness\",\"valence\"],\"xaxis\":\"x\",\"y\":[\"acousticness\",\"danceability\",\"energy\",\"instrumentalness\",\"liveness\",\"speechiness\",\"valence\"],\"yaxis\":\"y\",\"z\":[[1.0,-0.4052440110249612,-0.6918071891381284,-0.07233109190082922,-0.15337444989329543,0.08433626471418267,-0.23619938631681292],[-0.4052440110249612,1.0,0.3248503279601588,-0.05530551711961711,-0.23489574290840856,-0.02891478480953375,0.6195376250109058],[-0.6918071891381284,0.3248503279601588,1.0,-0.059818339058785336,0.35478292495716307,0.17824077966976287,0.3132337298111359],[-0.07233109190082922,-0.05530551711961711,-0.059818339058785336,1.0,-0.11916571906423615,-0.14112794331488687,-0.06042160228020822],[-0.15337444989329543,-0.23489574290840856,0.35478292495716307,-0.11916571906423615,1.0,0.4082751949546823,-0.1540832380355988],[0.08433626471418267,-0.02891478480953375,0.17824077966976287,-0.14112794331488687,0.4082751949546823,1.0,0.09192262382772068],[-0.23619938631681292,0.6195376250109058,0.3132337298111359,-0.06042160228020822,-0.1540832380355988,0.09192262382772068,1.0]]}],                        {\"coloraxis\":{\"colorscale\":[[0.0,\"#0d0887\"],[0.1111111111111111,\"#46039f\"],[0.2222222222222222,\"#7201a8\"],[0.3333333333333333,\"#9c179e\"],[0.4444444444444444,\"#bd3786\"],[0.5555555555555556,\"#d8576b\"],[0.6666666666666666,\"#ed7953\"],[0.7777777777777778,\"#fb9f3a\"],[0.8888888888888888,\"#fdca26\"],[1.0,\"#f0f921\"]]},\"margin\":{\"t\":60},\"template\":{\"data\":{\"bar\":[{\"error_x\":{\"color\":\"#2a3f5f\"},\"error_y\":{\"color\":\"#2a3f5f\"},\"marker\":{\"line\":{\"color\":\"#E5ECF6\",\"width\":0.5},\"pattern\":{\"fillmode\":\"overlay\",\"size\":10,\"solidity\":0.2}},\"type\":\"bar\"}],\"barpolar\":[{\"marker\":{\"line\":{\"color\":\"#E5ECF6\",\"width\":0.5},\"pattern\":{\"fillmode\":\"overlay\",\"size\":10,\"solidity\":0.2}},\"type\":\"barpolar\"}],\"carpet\":[{\"aaxis\":{\"endlinecolor\":\"#2a3f5f\",\"gridcolor\":\"white\",\"linecolor\":\"white\",\"minorgridcolor\":\"white\",\"startlinecolor\":\"#2a3f5f\"},\"baxis\":{\"endlinecolor\":\"#2a3f5f\",\"gridcolor\":\"white\",\"linecolor\":\"white\",\"minorgridcolor\":\"white\",\"startlinecolor\":\"#2a3f5f\"},\"type\":\"carpet\"}],\"choropleth\":[{\"colorbar\":{\"outlinewidth\":0,\"ticks\":\"\"},\"type\":\"choropleth\"}],\"contour\":[{\"colorbar\":{\"outlinewidth\":0,\"ticks\":\"\"},\"colorscale\":[[0.0,\"#0d0887\"],[0.1111111111111111,\"#46039f\"],[0.2222222222222222,\"#7201a8\"],[0.3333333333333333,\"#9c179e\"],[0.4444444444444444,\"#bd3786\"],[0.5555555555555556,\"#d8576b\"],[0.6666666666666666,\"#ed7953\"],[0.7777777777777778,\"#fb9f3a\"],[0.8888888888888888,\"#fdca26\"],[1.0,\"#f0f921\"]],\"type\":\"contour\"}],\"contourcarpet\":[{\"colorbar\":{\"outlinewidth\":0,\"ticks\":\"\"},\"type\":\"contourcarpet\"}],\"heatmap\":[{\"colorbar\":{\"outlinewidth\":0,\"ticks\":\"\"},\"colorscale\":[[0.0,\"#0d0887\"],[0.1111111111111111,\"#46039f\"],[0.2222222222222222,\"#7201a8\"],[0.3333333333333333,\"#9c179e\"],[0.4444444444444444,\"#bd3786\"],[0.5555555555555556,\"#d8576b\"],[0.6666666666666666,\"#ed7953\"],[0.7777777777777778,\"#fb9f3a\"],[0.8888888888888888,\"#fdca26\"],[1.0,\"#f0f921\"]],\"type\":\"heatmap\"}],\"heatmapgl\":[{\"colorbar\":{\"outlinewidth\":0,\"ticks\":\"\"},\"colorscale\":[[0.0,\"#0d0887\"],[0.1111111111111111,\"#46039f\"],[0.2222222222222222,\"#7201a8\"],[0.3333333333333333,\"#9c179e\"],[0.4444444444444444,\"#bd3786\"],[0.5555555555555556,\"#d8576b\"],[0.6666666666666666,\"#ed7953\"],[0.7777777777777778,\"#fb9f3a\"],[0.8888888888888888,\"#fdca26\"],[1.0,\"#f0f921\"]],\"type\":\"heatmapgl\"}],\"histogram\":[{\"marker\":{\"pattern\":{\"fillmode\":\"overlay\",\"size\":10,\"solidity\":0.2}},\"type\":\"histogram\"}],\"histogram2d\":[{\"colorbar\":{\"outlinewidth\":0,\"ticks\":\"\"},\"colorscale\":[[0.0,\"#0d0887\"],[0.1111111111111111,\"#46039f\"],[0.2222222222222222,\"#7201a8\"],[0.3333333333333333,\"#9c179e\"],[0.4444444444444444,\"#bd3786\"],[0.5555555555555556,\"#d8576b\"],[0.6666666666666666,\"#ed7953\"],[0.7777777777777778,\"#fb9f3a\"],[0.8888888888888888,\"#fdca26\"],[1.0,\"#f0f921\"]],\"type\":\"histogram2d\"}],\"histogram2dcontour\":[{\"colorbar\":{\"outlinewidth\":0,\"ticks\":\"\"},\"colorscale\":[[0.0,\"#0d0887\"],[0.1111111111111111,\"#46039f\"],[0.2222222222222222,\"#7201a8\"],[0.3333333333333333,\"#9c179e\"],[0.4444444444444444,\"#bd3786\"],[0.5555555555555556,\"#d8576b\"],[0.6666666666666666,\"#ed7953\"],[0.7777777777777778,\"#fb9f3a\"],[0.8888888888888888,\"#fdca26\"],[1.0,\"#f0f921\"]],\"type\":\"histogram2dcontour\"}],\"mesh3d\":[{\"colorbar\":{\"outlinewidth\":0,\"ticks\":\"\"},\"type\":\"mesh3d\"}],\"parcoords\":[{\"line\":{\"colorbar\":{\"outlinewidth\":0,\"ticks\":\"\"}},\"type\":\"parcoords\"}],\"pie\":[{\"automargin\":true,\"type\":\"pie\"}],\"scatter\":[{\"marker\":{\"colorbar\":{\"outlinewidth\":0,\"ticks\":\"\"}},\"type\":\"scatter\"}],\"scatter3d\":[{\"line\":{\"colorbar\":{\"outlinewidth\":0,\"ticks\":\"\"}},\"marker\":{\"colorbar\":{\"outlinewidth\":0,\"ticks\":\"\"}},\"type\":\"scatter3d\"}],\"scattercarpet\":[{\"marker\":{\"colorbar\":{\"outlinewidth\":0,\"ticks\":\"\"}},\"type\":\"scattercarpet\"}],\"scattergeo\":[{\"marker\":{\"colorbar\":{\"outlinewidth\":0,\"ticks\":\"\"}},\"type\":\"scattergeo\"}],\"scattergl\":[{\"marker\":{\"colorbar\":{\"outlinewidth\":0,\"ticks\":\"\"}},\"type\":\"scattergl\"}],\"scattermapbox\":[{\"marker\":{\"colorbar\":{\"outlinewidth\":0,\"ticks\":\"\"}},\"type\":\"scattermapbox\"}],\"scatterpolar\":[{\"marker\":{\"colorbar\":{\"outlinewidth\":0,\"ticks\":\"\"}},\"type\":\"scatterpolar\"}],\"scatterpolargl\":[{\"marker\":{\"colorbar\":{\"outlinewidth\":0,\"ticks\":\"\"}},\"type\":\"scatterpolargl\"}],\"scatterternary\":[{\"marker\":{\"colorbar\":{\"outlinewidth\":0,\"ticks\":\"\"}},\"type\":\"scatterternary\"}],\"surface\":[{\"colorbar\":{\"outlinewidth\":0,\"ticks\":\"\"},\"colorscale\":[[0.0,\"#0d0887\"],[0.1111111111111111,\"#46039f\"],[0.2222222222222222,\"#7201a8\"],[0.3333333333333333,\"#9c179e\"],[0.4444444444444444,\"#bd3786\"],[0.5555555555555556,\"#d8576b\"],[0.6666666666666666,\"#ed7953\"],[0.7777777777777778,\"#fb9f3a\"],[0.8888888888888888,\"#fdca26\"],[1.0,\"#f0f921\"]],\"type\":\"surface\"}],\"table\":[{\"cells\":{\"fill\":{\"color\":\"#EBF0F8\"},\"line\":{\"color\":\"white\"}},\"header\":{\"fill\":{\"color\":\"#C8D4E3\"},\"line\":{\"color\":\"white\"}},\"type\":\"table\"}]},\"layout\":{\"annotationdefaults\":{\"arrowcolor\":\"#2a3f5f\",\"arrowhead\":0,\"arrowwidth\":1},\"autotypenumbers\":\"strict\",\"coloraxis\":{\"colorbar\":{\"outlinewidth\":0,\"ticks\":\"\"}},\"colorscale\":{\"diverging\":[[0,\"#8e0152\"],[0.1,\"#c51b7d\"],[0.2,\"#de77ae\"],[0.3,\"#f1b6da\"],[0.4,\"#fde0ef\"],[0.5,\"#f7f7f7\"],[0.6,\"#e6f5d0\"],[0.7,\"#b8e186\"],[0.8,\"#7fbc41\"],[0.9,\"#4d9221\"],[1,\"#276419\"]],\"sequential\":[[0.0,\"#0d0887\"],[0.1111111111111111,\"#46039f\"],[0.2222222222222222,\"#7201a8\"],[0.3333333333333333,\"#9c179e\"],[0.4444444444444444,\"#bd3786\"],[0.5555555555555556,\"#d8576b\"],[0.6666666666666666,\"#ed7953\"],[0.7777777777777778,\"#fb9f3a\"],[0.8888888888888888,\"#fdca26\"],[1.0,\"#f0f921\"]],\"sequentialminus\":[[0.0,\"#0d0887\"],[0.1111111111111111,\"#46039f\"],[0.2222222222222222,\"#7201a8\"],[0.3333333333333333,\"#9c179e\"],[0.4444444444444444,\"#bd3786\"],[0.5555555555555556,\"#d8576b\"],[0.6666666666666666,\"#ed7953\"],[0.7777777777777778,\"#fb9f3a\"],[0.8888888888888888,\"#fdca26\"],[1.0,\"#f0f921\"]]},\"colorway\":[\"#636efa\",\"#EF553B\",\"#00cc96\",\"#ab63fa\",\"#FFA15A\",\"#19d3f3\",\"#FF6692\",\"#B6E880\",\"#FF97FF\",\"#FECB52\"],\"font\":{\"color\":\"#2a3f5f\"},\"geo\":{\"bgcolor\":\"white\",\"lakecolor\":\"white\",\"landcolor\":\"#E5ECF6\",\"showlakes\":true,\"showland\":true,\"subunitcolor\":\"white\"},\"hoverlabel\":{\"align\":\"left\"},\"hovermode\":\"closest\",\"mapbox\":{\"style\":\"light\"},\"paper_bgcolor\":\"white\",\"plot_bgcolor\":\"#E5ECF6\",\"polar\":{\"angularaxis\":{\"gridcolor\":\"white\",\"linecolor\":\"white\",\"ticks\":\"\"},\"bgcolor\":\"#E5ECF6\",\"radialaxis\":{\"gridcolor\":\"white\",\"linecolor\":\"white\",\"ticks\":\"\"}},\"scene\":{\"xaxis\":{\"backgroundcolor\":\"#E5ECF6\",\"gridcolor\":\"white\",\"gridwidth\":2,\"linecolor\":\"white\",\"showbackground\":true,\"ticks\":\"\",\"zerolinecolor\":\"white\"},\"yaxis\":{\"backgroundcolor\":\"#E5ECF6\",\"gridcolor\":\"white\",\"gridwidth\":2,\"linecolor\":\"white\",\"showbackground\":true,\"ticks\":\"\",\"zerolinecolor\":\"white\"},\"zaxis\":{\"backgroundcolor\":\"#E5ECF6\",\"gridcolor\":\"white\",\"gridwidth\":2,\"linecolor\":\"white\",\"showbackground\":true,\"ticks\":\"\",\"zerolinecolor\":\"white\"}},\"shapedefaults\":{\"line\":{\"color\":\"#2a3f5f\"}},\"ternary\":{\"aaxis\":{\"gridcolor\":\"white\",\"linecolor\":\"white\",\"ticks\":\"\"},\"baxis\":{\"gridcolor\":\"white\",\"linecolor\":\"white\",\"ticks\":\"\"},\"bgcolor\":\"#E5ECF6\",\"caxis\":{\"gridcolor\":\"white\",\"linecolor\":\"white\",\"ticks\":\"\"}},\"title\":{\"x\":0.05},\"xaxis\":{\"automargin\":true,\"gridcolor\":\"white\",\"linecolor\":\"white\",\"ticks\":\"\",\"title\":{\"standoff\":15},\"zerolinecolor\":\"white\",\"zerolinewidth\":2},\"yaxis\":{\"automargin\":true,\"gridcolor\":\"white\",\"linecolor\":\"white\",\"ticks\":\"\",\"title\":{\"standoff\":15},\"zerolinecolor\":\"white\",\"zerolinewidth\":2}}},\"xaxis\":{\"anchor\":\"y\",\"constrain\":\"domain\",\"domain\":[0.0,1.0],\"scaleanchor\":\"y\"},\"yaxis\":{\"anchor\":\"x\",\"autorange\":\"reversed\",\"constrain\":\"domain\",\"domain\":[0.0,1.0]}},                        {\"responsive\": true}                    ).then(function(){\n",
       "                            \n",
       "var gd = document.getElementById('1234c7c8-6983-4d6d-b132-dfcb3792bd0a');\n",
       "var x = new MutationObserver(function (mutations, observer) {{\n",
       "        var display = window.getComputedStyle(gd).display;\n",
       "        if (!display || display === 'none') {{\n",
       "            console.log([gd, 'removed!']);\n",
       "            Plotly.purge(gd);\n",
       "            observer.disconnect();\n",
       "        }}\n",
       "}});\n",
       "\n",
       "// Listen for the removal of the full notebook cells\n",
       "var notebookContainer = gd.closest('#notebook-container');\n",
       "if (notebookContainer) {{\n",
       "    x.observe(notebookContainer, {childList: true});\n",
       "}}\n",
       "\n",
       "// Listen for the clearing of the current output cell\n",
       "var outputEl = gd.closest('.output');\n",
       "if (outputEl) {{\n",
       "    x.observe(outputEl, {childList: true});\n",
       "}}\n",
       "\n",
       "                        })                };                });            </script>        </div>"
      ]
     },
     "metadata": {},
     "output_type": "display_data"
    }
   ],
   "source": [
    "\"\"\"Uma outra opção de visualizar a correlação existente entre os dados.\"\"\"\n",
    "\n",
    "fig = px.imshow(DF_2.corr())\n",
    "fig.show()"
   ]
  },
  {
   "cell_type": "code",
   "execution_count": 32,
   "metadata": {},
   "outputs": [
    {
     "data": {
      "application/vnd.plotly.v1+json": {
       "config": {
        "plotlyServerURL": "https://plot.ly"
       },
       "data": [
        {
         "hovertemplate": "acousticness=%{x}<br>valence=%{y}<extra></extra>",
         "legendgroup": "",
         "marker": {
          "color": "#636efa",
          "symbol": "circle"
         },
         "mode": "markers",
         "name": "",
         "orientation": "v",
         "showlegend": false,
         "type": "scatter",
         "x": [
          0.633,
          0.731,
          0.105,
          0.00642,
          0.94,
          0.284,
          0.00333,
          0.0227,
          0.00337,
          0.533,
          0.199,
          0.2,
          0.524,
          0.0184,
          0.0306,
          0.042,
          0.491,
          0.703,
          0.119,
          0.756,
          0.049,
          0.783,
          0.675,
          0.0846,
          0.826,
          0.432,
          0.0159,
          0.406,
          0.699,
          0.00956,
          0.143,
          0.000263,
          0.00174,
          0.124,
          0.0237,
          0.994,
          0.00981,
          0.257,
          0.0332,
          0.018,
          0.0197,
          0.0276,
          0.079,
          0.0298,
          0.0158,
          0.129,
          0.0138,
          0.000959,
          0.0143,
          0.0101,
          0.0649,
          0.00232,
          0.00646,
          0.000688,
          0.149,
          0.00413,
          0.00294,
          0.00534,
          0.0335,
          0.00269,
          0.0351,
          0.028,
          0.013,
          0.011,
          0.00563,
          0.963,
          0.0515,
          0.00282,
          0.0686,
          0.0134,
          0.632,
          0.745,
          0.0105,
          0.00175,
          0.0433,
          0.273,
          0.0209,
          0.866,
          0.947,
          0.0376,
          0.392,
          0.00532,
          0.942,
          0.00308,
          0.103,
          0.00969,
          0.242,
          0.0424,
          0.0296,
          0.122,
          0.5,
          0.0673,
          0.171,
          0.0953,
          0.643,
          0.573,
          0.541,
          0.0128,
          0.241,
          0.161,
          0.0273,
          0.27,
          0.023,
          0.0849,
          0.0188,
          0.0289,
          0.308,
          0.352,
          0.0322,
          0.284,
          0.158,
          0.381,
          0.0328,
          0.00496,
          0.143,
          0.193,
          0.431,
          0.0446,
          0.00385,
          0.00018,
          0.00192,
          6.63e-05,
          0.0496,
          0.0488,
          0.000279,
          0.141,
          0.0196,
          0.613,
          0.537,
          0.0131,
          0.00252,
          0.0577,
          0.367,
          0.0547,
          0.0307,
          0.00778,
          0.0346,
          0.235,
          0.0064,
          0.00102,
          0.306,
          0.306,
          0.193,
          0.018,
          0.0352,
          0.000703,
          0.00323,
          0.00241,
          0.00327,
          0.0147,
          0.0846,
          0.0452,
          0.00202,
          0.0989,
          0.0462,
          0.272,
          0.0383,
          0.673,
          0.107,
          0.128,
          0.503,
          0.786,
          0.192,
          0.729,
          0.00908,
          0.129,
          0.0488,
          0.0895,
          0.00242,
          0.206,
          0.155,
          0.0546
         ],
         "xaxis": "x",
         "y": [
          0.181,
          0.348,
          0.462,
          0.686,
          0.4,
          0.0588,
          0.0541,
          0.195,
          0.0611,
          0.399,
          0.17,
          0.642,
          0,
          0.584,
          0.186,
          0.855,
          0.175,
          0.403,
          0.709,
          0,
          0.595,
          0,
          0.535,
          0.548,
          0.302,
          0.123,
          0.715,
          0,
          0.595,
          0.0447,
          0.123,
          0.402,
          0.403,
          0.0795,
          0.419,
          0.547,
          0.193,
          0.488,
          0.377,
          0.14,
          0.571,
          0.486,
          0.444,
          0.537,
          0.383,
          0.436,
          0.384,
          0.111,
          0.184,
          0.104,
          0.436,
          0.637,
          0.694,
          0.554,
          0.922,
          0.444,
          0.693,
          0.154,
          0.237,
          0.49,
          0.416,
          0.303,
          0.475,
          0.396,
          0.572,
          0.433,
          0.184,
          0.475,
          0.435,
          0.196,
          0.0746,
          0.552,
          0.645,
          0.356,
          0.324,
          0.598,
          0.216,
          0.101,
          0.0498,
          0.406,
          0.626,
          0.818,
          0.421,
          0.201,
          0.325,
          0.401,
          0.777,
          0.512,
          0.174,
          0.236,
          0.555,
          0.0996,
          0.214,
          0.352,
          0.186,
          0.0388,
          0.0631,
          0.56,
          0.457,
          0.474,
          0.709,
          0.763,
          0.397,
          0.652,
          0.712,
          0.551,
          0.699,
          0.835,
          0.471,
          0.228,
          0.447,
          0.261,
          0.785,
          0.76,
          0.297,
          0.398,
          0.234,
          0.672,
          0.848,
          0.698,
          0.358,
          0.0852,
          0.268,
          0.245,
          0.184,
          0.184,
          0.208,
          0.0784,
          0.15,
          0.157,
          0.337,
          0.353,
          0.603,
          0.534,
          0.217,
          0.314,
          0.266,
          0.267,
          0.438,
          0.334,
          0.448,
          0.255,
          0.171,
          0.198,
          0.217,
          0.22,
          0.885,
          0.783,
          0.622,
          0.851,
          0.0813,
          0.613,
          0.774,
          0.341,
          0.741,
          0.472,
          0.272,
          0.148,
          0.427,
          0.206,
          0.159,
          0.201,
          0.103,
          0.282,
          0.102,
          0.553,
          0.861,
          0.788,
          0.608,
          0.416,
          0.489,
          0.205
         ],
         "yaxis": "y"
        }
       ],
       "layout": {
        "legend": {
         "tracegroupgap": 0
        },
        "margin": {
         "t": 60
        },
        "shapes": [
         {
          "type": "line",
          "x0": 0,
          "x1": 1,
          "xref": "x domain",
          "y0": 0.9,
          "y1": 0.9,
          "yref": "y"
         },
         {
          "type": "rect",
          "x0": 0.9,
          "x1": 2,
          "xref": "x",
          "y0": 0,
          "y1": 1,
          "yref": "y domain"
         }
        ],
        "template": {
         "data": {
          "bar": [
           {
            "error_x": {
             "color": "#2a3f5f"
            },
            "error_y": {
             "color": "#2a3f5f"
            },
            "marker": {
             "line": {
              "color": "#E5ECF6",
              "width": 0.5
             },
             "pattern": {
              "fillmode": "overlay",
              "size": 10,
              "solidity": 0.2
             }
            },
            "type": "bar"
           }
          ],
          "barpolar": [
           {
            "marker": {
             "line": {
              "color": "#E5ECF6",
              "width": 0.5
             },
             "pattern": {
              "fillmode": "overlay",
              "size": 10,
              "solidity": 0.2
             }
            },
            "type": "barpolar"
           }
          ],
          "carpet": [
           {
            "aaxis": {
             "endlinecolor": "#2a3f5f",
             "gridcolor": "white",
             "linecolor": "white",
             "minorgridcolor": "white",
             "startlinecolor": "#2a3f5f"
            },
            "baxis": {
             "endlinecolor": "#2a3f5f",
             "gridcolor": "white",
             "linecolor": "white",
             "minorgridcolor": "white",
             "startlinecolor": "#2a3f5f"
            },
            "type": "carpet"
           }
          ],
          "choropleth": [
           {
            "colorbar": {
             "outlinewidth": 0,
             "ticks": ""
            },
            "type": "choropleth"
           }
          ],
          "contour": [
           {
            "colorbar": {
             "outlinewidth": 0,
             "ticks": ""
            },
            "colorscale": [
             [
              0,
              "#0d0887"
             ],
             [
              0.1111111111111111,
              "#46039f"
             ],
             [
              0.2222222222222222,
              "#7201a8"
             ],
             [
              0.3333333333333333,
              "#9c179e"
             ],
             [
              0.4444444444444444,
              "#bd3786"
             ],
             [
              0.5555555555555556,
              "#d8576b"
             ],
             [
              0.6666666666666666,
              "#ed7953"
             ],
             [
              0.7777777777777778,
              "#fb9f3a"
             ],
             [
              0.8888888888888888,
              "#fdca26"
             ],
             [
              1,
              "#f0f921"
             ]
            ],
            "type": "contour"
           }
          ],
          "contourcarpet": [
           {
            "colorbar": {
             "outlinewidth": 0,
             "ticks": ""
            },
            "type": "contourcarpet"
           }
          ],
          "heatmap": [
           {
            "colorbar": {
             "outlinewidth": 0,
             "ticks": ""
            },
            "colorscale": [
             [
              0,
              "#0d0887"
             ],
             [
              0.1111111111111111,
              "#46039f"
             ],
             [
              0.2222222222222222,
              "#7201a8"
             ],
             [
              0.3333333333333333,
              "#9c179e"
             ],
             [
              0.4444444444444444,
              "#bd3786"
             ],
             [
              0.5555555555555556,
              "#d8576b"
             ],
             [
              0.6666666666666666,
              "#ed7953"
             ],
             [
              0.7777777777777778,
              "#fb9f3a"
             ],
             [
              0.8888888888888888,
              "#fdca26"
             ],
             [
              1,
              "#f0f921"
             ]
            ],
            "type": "heatmap"
           }
          ],
          "heatmapgl": [
           {
            "colorbar": {
             "outlinewidth": 0,
             "ticks": ""
            },
            "colorscale": [
             [
              0,
              "#0d0887"
             ],
             [
              0.1111111111111111,
              "#46039f"
             ],
             [
              0.2222222222222222,
              "#7201a8"
             ],
             [
              0.3333333333333333,
              "#9c179e"
             ],
             [
              0.4444444444444444,
              "#bd3786"
             ],
             [
              0.5555555555555556,
              "#d8576b"
             ],
             [
              0.6666666666666666,
              "#ed7953"
             ],
             [
              0.7777777777777778,
              "#fb9f3a"
             ],
             [
              0.8888888888888888,
              "#fdca26"
             ],
             [
              1,
              "#f0f921"
             ]
            ],
            "type": "heatmapgl"
           }
          ],
          "histogram": [
           {
            "marker": {
             "pattern": {
              "fillmode": "overlay",
              "size": 10,
              "solidity": 0.2
             }
            },
            "type": "histogram"
           }
          ],
          "histogram2d": [
           {
            "colorbar": {
             "outlinewidth": 0,
             "ticks": ""
            },
            "colorscale": [
             [
              0,
              "#0d0887"
             ],
             [
              0.1111111111111111,
              "#46039f"
             ],
             [
              0.2222222222222222,
              "#7201a8"
             ],
             [
              0.3333333333333333,
              "#9c179e"
             ],
             [
              0.4444444444444444,
              "#bd3786"
             ],
             [
              0.5555555555555556,
              "#d8576b"
             ],
             [
              0.6666666666666666,
              "#ed7953"
             ],
             [
              0.7777777777777778,
              "#fb9f3a"
             ],
             [
              0.8888888888888888,
              "#fdca26"
             ],
             [
              1,
              "#f0f921"
             ]
            ],
            "type": "histogram2d"
           }
          ],
          "histogram2dcontour": [
           {
            "colorbar": {
             "outlinewidth": 0,
             "ticks": ""
            },
            "colorscale": [
             [
              0,
              "#0d0887"
             ],
             [
              0.1111111111111111,
              "#46039f"
             ],
             [
              0.2222222222222222,
              "#7201a8"
             ],
             [
              0.3333333333333333,
              "#9c179e"
             ],
             [
              0.4444444444444444,
              "#bd3786"
             ],
             [
              0.5555555555555556,
              "#d8576b"
             ],
             [
              0.6666666666666666,
              "#ed7953"
             ],
             [
              0.7777777777777778,
              "#fb9f3a"
             ],
             [
              0.8888888888888888,
              "#fdca26"
             ],
             [
              1,
              "#f0f921"
             ]
            ],
            "type": "histogram2dcontour"
           }
          ],
          "mesh3d": [
           {
            "colorbar": {
             "outlinewidth": 0,
             "ticks": ""
            },
            "type": "mesh3d"
           }
          ],
          "parcoords": [
           {
            "line": {
             "colorbar": {
              "outlinewidth": 0,
              "ticks": ""
             }
            },
            "type": "parcoords"
           }
          ],
          "pie": [
           {
            "automargin": true,
            "type": "pie"
           }
          ],
          "scatter": [
           {
            "marker": {
             "colorbar": {
              "outlinewidth": 0,
              "ticks": ""
             }
            },
            "type": "scatter"
           }
          ],
          "scatter3d": [
           {
            "line": {
             "colorbar": {
              "outlinewidth": 0,
              "ticks": ""
             }
            },
            "marker": {
             "colorbar": {
              "outlinewidth": 0,
              "ticks": ""
             }
            },
            "type": "scatter3d"
           }
          ],
          "scattercarpet": [
           {
            "marker": {
             "colorbar": {
              "outlinewidth": 0,
              "ticks": ""
             }
            },
            "type": "scattercarpet"
           }
          ],
          "scattergeo": [
           {
            "marker": {
             "colorbar": {
              "outlinewidth": 0,
              "ticks": ""
             }
            },
            "type": "scattergeo"
           }
          ],
          "scattergl": [
           {
            "marker": {
             "colorbar": {
              "outlinewidth": 0,
              "ticks": ""
             }
            },
            "type": "scattergl"
           }
          ],
          "scattermapbox": [
           {
            "marker": {
             "colorbar": {
              "outlinewidth": 0,
              "ticks": ""
             }
            },
            "type": "scattermapbox"
           }
          ],
          "scatterpolar": [
           {
            "marker": {
             "colorbar": {
              "outlinewidth": 0,
              "ticks": ""
             }
            },
            "type": "scatterpolar"
           }
          ],
          "scatterpolargl": [
           {
            "marker": {
             "colorbar": {
              "outlinewidth": 0,
              "ticks": ""
             }
            },
            "type": "scatterpolargl"
           }
          ],
          "scatterternary": [
           {
            "marker": {
             "colorbar": {
              "outlinewidth": 0,
              "ticks": ""
             }
            },
            "type": "scatterternary"
           }
          ],
          "surface": [
           {
            "colorbar": {
             "outlinewidth": 0,
             "ticks": ""
            },
            "colorscale": [
             [
              0,
              "#0d0887"
             ],
             [
              0.1111111111111111,
              "#46039f"
             ],
             [
              0.2222222222222222,
              "#7201a8"
             ],
             [
              0.3333333333333333,
              "#9c179e"
             ],
             [
              0.4444444444444444,
              "#bd3786"
             ],
             [
              0.5555555555555556,
              "#d8576b"
             ],
             [
              0.6666666666666666,
              "#ed7953"
             ],
             [
              0.7777777777777778,
              "#fb9f3a"
             ],
             [
              0.8888888888888888,
              "#fdca26"
             ],
             [
              1,
              "#f0f921"
             ]
            ],
            "type": "surface"
           }
          ],
          "table": [
           {
            "cells": {
             "fill": {
              "color": "#EBF0F8"
             },
             "line": {
              "color": "white"
             }
            },
            "header": {
             "fill": {
              "color": "#C8D4E3"
             },
             "line": {
              "color": "white"
             }
            },
            "type": "table"
           }
          ]
         },
         "layout": {
          "annotationdefaults": {
           "arrowcolor": "#2a3f5f",
           "arrowhead": 0,
           "arrowwidth": 1
          },
          "autotypenumbers": "strict",
          "coloraxis": {
           "colorbar": {
            "outlinewidth": 0,
            "ticks": ""
           }
          },
          "colorscale": {
           "diverging": [
            [
             0,
             "#8e0152"
            ],
            [
             0.1,
             "#c51b7d"
            ],
            [
             0.2,
             "#de77ae"
            ],
            [
             0.3,
             "#f1b6da"
            ],
            [
             0.4,
             "#fde0ef"
            ],
            [
             0.5,
             "#f7f7f7"
            ],
            [
             0.6,
             "#e6f5d0"
            ],
            [
             0.7,
             "#b8e186"
            ],
            [
             0.8,
             "#7fbc41"
            ],
            [
             0.9,
             "#4d9221"
            ],
            [
             1,
             "#276419"
            ]
           ],
           "sequential": [
            [
             0,
             "#0d0887"
            ],
            [
             0.1111111111111111,
             "#46039f"
            ],
            [
             0.2222222222222222,
             "#7201a8"
            ],
            [
             0.3333333333333333,
             "#9c179e"
            ],
            [
             0.4444444444444444,
             "#bd3786"
            ],
            [
             0.5555555555555556,
             "#d8576b"
            ],
            [
             0.6666666666666666,
             "#ed7953"
            ],
            [
             0.7777777777777778,
             "#fb9f3a"
            ],
            [
             0.8888888888888888,
             "#fdca26"
            ],
            [
             1,
             "#f0f921"
            ]
           ],
           "sequentialminus": [
            [
             0,
             "#0d0887"
            ],
            [
             0.1111111111111111,
             "#46039f"
            ],
            [
             0.2222222222222222,
             "#7201a8"
            ],
            [
             0.3333333333333333,
             "#9c179e"
            ],
            [
             0.4444444444444444,
             "#bd3786"
            ],
            [
             0.5555555555555556,
             "#d8576b"
            ],
            [
             0.6666666666666666,
             "#ed7953"
            ],
            [
             0.7777777777777778,
             "#fb9f3a"
            ],
            [
             0.8888888888888888,
             "#fdca26"
            ],
            [
             1,
             "#f0f921"
            ]
           ]
          },
          "colorway": [
           "#636efa",
           "#EF553B",
           "#00cc96",
           "#ab63fa",
           "#FFA15A",
           "#19d3f3",
           "#FF6692",
           "#B6E880",
           "#FF97FF",
           "#FECB52"
          ],
          "font": {
           "color": "#2a3f5f"
          },
          "geo": {
           "bgcolor": "white",
           "lakecolor": "white",
           "landcolor": "#E5ECF6",
           "showlakes": true,
           "showland": true,
           "subunitcolor": "white"
          },
          "hoverlabel": {
           "align": "left"
          },
          "hovermode": "closest",
          "mapbox": {
           "style": "light"
          },
          "paper_bgcolor": "white",
          "plot_bgcolor": "#E5ECF6",
          "polar": {
           "angularaxis": {
            "gridcolor": "white",
            "linecolor": "white",
            "ticks": ""
           },
           "bgcolor": "#E5ECF6",
           "radialaxis": {
            "gridcolor": "white",
            "linecolor": "white",
            "ticks": ""
           }
          },
          "scene": {
           "xaxis": {
            "backgroundcolor": "#E5ECF6",
            "gridcolor": "white",
            "gridwidth": 2,
            "linecolor": "white",
            "showbackground": true,
            "ticks": "",
            "zerolinecolor": "white"
           },
           "yaxis": {
            "backgroundcolor": "#E5ECF6",
            "gridcolor": "white",
            "gridwidth": 2,
            "linecolor": "white",
            "showbackground": true,
            "ticks": "",
            "zerolinecolor": "white"
           },
           "zaxis": {
            "backgroundcolor": "#E5ECF6",
            "gridcolor": "white",
            "gridwidth": 2,
            "linecolor": "white",
            "showbackground": true,
            "ticks": "",
            "zerolinecolor": "white"
           }
          },
          "shapedefaults": {
           "line": {
            "color": "#2a3f5f"
           }
          },
          "ternary": {
           "aaxis": {
            "gridcolor": "white",
            "linecolor": "white",
            "ticks": ""
           },
           "baxis": {
            "gridcolor": "white",
            "linecolor": "white",
            "ticks": ""
           },
           "bgcolor": "#E5ECF6",
           "caxis": {
            "gridcolor": "white",
            "linecolor": "white",
            "ticks": ""
           }
          },
          "title": {
           "x": 0.05
          },
          "xaxis": {
           "automargin": true,
           "gridcolor": "white",
           "linecolor": "white",
           "ticks": "",
           "title": {
            "standoff": 15
           },
           "zerolinecolor": "white",
           "zerolinewidth": 2
          },
          "yaxis": {
           "automargin": true,
           "gridcolor": "white",
           "linecolor": "white",
           "ticks": "",
           "title": {
            "standoff": 15
           },
           "zerolinecolor": "white",
           "zerolinewidth": 2
          }
         }
        },
        "xaxis": {
         "anchor": "y",
         "domain": [
          0,
          1
         ],
         "title": {
          "text": "acousticness"
         }
        },
        "yaxis": {
         "anchor": "x",
         "domain": [
          0,
          1
         ],
         "title": {
          "text": "valence"
         }
        }
       }
      },
      "text/html": [
       "<div>                            <div id=\"a0ddbfe5-94bf-4b39-bb11-195a54ea4ee7\" class=\"plotly-graph-div\" style=\"height:525px; width:100%;\"></div>            <script type=\"text/javascript\">                require([\"plotly\"], function(Plotly) {                    window.PLOTLYENV=window.PLOTLYENV || {};                                    if (document.getElementById(\"a0ddbfe5-94bf-4b39-bb11-195a54ea4ee7\")) {                    Plotly.newPlot(                        \"a0ddbfe5-94bf-4b39-bb11-195a54ea4ee7\",                        [{\"hovertemplate\":\"acousticness=%{x}<br>valence=%{y}<extra></extra>\",\"legendgroup\":\"\",\"marker\":{\"color\":\"#636efa\",\"symbol\":\"circle\"},\"mode\":\"markers\",\"name\":\"\",\"orientation\":\"v\",\"showlegend\":false,\"type\":\"scatter\",\"x\":[0.633,0.731,0.105,0.00642,0.94,0.284,0.00333,0.0227,0.00337,0.533,0.199,0.2,0.524,0.0184,0.0306,0.042,0.491,0.703,0.119,0.756,0.049,0.783,0.675,0.0846,0.826,0.432,0.0159,0.406,0.699,0.00956,0.143,0.000263,0.00174,0.124,0.0237,0.994,0.00981,0.257,0.0332,0.018,0.0197,0.0276,0.079,0.0298,0.0158,0.129,0.0138,0.000959,0.0143,0.0101,0.0649,0.00232,0.00646,0.000688,0.149,0.00413,0.00294,0.00534,0.0335,0.00269,0.0351,0.028,0.013,0.011,0.00563,0.963,0.0515,0.00282,0.0686,0.0134,0.632,0.745,0.0105,0.00175,0.0433,0.273,0.0209,0.866,0.947,0.0376,0.392,0.00532,0.942,0.00308,0.103,0.00969,0.242,0.0424,0.0296,0.122,0.5,0.0673,0.171,0.0953,0.643,0.573,0.541,0.0128,0.241,0.161,0.0273,0.27,0.023,0.0849,0.0188,0.0289,0.308,0.352,0.0322,0.284,0.158,0.381,0.0328,0.00496,0.143,0.193,0.431,0.0446,0.00385,0.00018,0.00192,6.63e-05,0.0496,0.0488,0.000279,0.141,0.0196,0.613,0.537,0.0131,0.00252,0.0577,0.367,0.0547,0.0307,0.00778,0.0346,0.235,0.0064,0.00102,0.306,0.306,0.193,0.018,0.0352,0.000703,0.00323,0.00241,0.00327,0.0147,0.0846,0.0452,0.00202,0.0989,0.0462,0.272,0.0383,0.673,0.107,0.128,0.503,0.786,0.192,0.729,0.00908,0.129,0.0488,0.0895,0.00242,0.206,0.155,0.0546],\"xaxis\":\"x\",\"y\":[0.181,0.348,0.462,0.686,0.4,0.0588,0.0541,0.195,0.0611,0.399,0.17,0.642,0.0,0.584,0.186,0.855,0.175,0.403,0.709,0.0,0.595,0.0,0.535,0.548,0.302,0.123,0.715,0.0,0.595,0.0447,0.123,0.402,0.403,0.0795,0.419,0.547,0.193,0.488,0.377,0.14,0.571,0.486,0.444,0.537,0.383,0.436,0.384,0.111,0.184,0.104,0.436,0.637,0.694,0.554,0.922,0.444,0.693,0.154,0.237,0.49,0.416,0.303,0.475,0.396,0.572,0.433,0.184,0.475,0.435,0.196,0.0746,0.552,0.645,0.356,0.324,0.598,0.216,0.101,0.0498,0.406,0.626,0.818,0.421,0.201,0.325,0.401,0.777,0.512,0.174,0.236,0.555,0.0996,0.214,0.352,0.186,0.0388,0.0631,0.56,0.457,0.474,0.709,0.763,0.397,0.652,0.712,0.551,0.699,0.835,0.471,0.228,0.447,0.261,0.785,0.76,0.297,0.398,0.234,0.672,0.848,0.698,0.358,0.0852,0.268,0.245,0.184,0.184,0.208,0.0784,0.15,0.157,0.337,0.353,0.603,0.534,0.217,0.314,0.266,0.267,0.438,0.334,0.448,0.255,0.171,0.198,0.217,0.22,0.885,0.783,0.622,0.851,0.0813,0.613,0.774,0.341,0.741,0.472,0.272,0.148,0.427,0.206,0.159,0.201,0.103,0.282,0.102,0.553,0.861,0.788,0.608,0.416,0.489,0.205],\"yaxis\":\"y\"}],                        {\"legend\":{\"tracegroupgap\":0},\"margin\":{\"t\":60},\"shapes\":[{\"type\":\"line\",\"x0\":0,\"x1\":1,\"xref\":\"x domain\",\"y0\":0.9,\"y1\":0.9,\"yref\":\"y\"},{\"type\":\"rect\",\"x0\":0.9,\"x1\":2,\"xref\":\"x\",\"y0\":0,\"y1\":1,\"yref\":\"y domain\"}],\"template\":{\"data\":{\"bar\":[{\"error_x\":{\"color\":\"#2a3f5f\"},\"error_y\":{\"color\":\"#2a3f5f\"},\"marker\":{\"line\":{\"color\":\"#E5ECF6\",\"width\":0.5},\"pattern\":{\"fillmode\":\"overlay\",\"size\":10,\"solidity\":0.2}},\"type\":\"bar\"}],\"barpolar\":[{\"marker\":{\"line\":{\"color\":\"#E5ECF6\",\"width\":0.5},\"pattern\":{\"fillmode\":\"overlay\",\"size\":10,\"solidity\":0.2}},\"type\":\"barpolar\"}],\"carpet\":[{\"aaxis\":{\"endlinecolor\":\"#2a3f5f\",\"gridcolor\":\"white\",\"linecolor\":\"white\",\"minorgridcolor\":\"white\",\"startlinecolor\":\"#2a3f5f\"},\"baxis\":{\"endlinecolor\":\"#2a3f5f\",\"gridcolor\":\"white\",\"linecolor\":\"white\",\"minorgridcolor\":\"white\",\"startlinecolor\":\"#2a3f5f\"},\"type\":\"carpet\"}],\"choropleth\":[{\"colorbar\":{\"outlinewidth\":0,\"ticks\":\"\"},\"type\":\"choropleth\"}],\"contour\":[{\"colorbar\":{\"outlinewidth\":0,\"ticks\":\"\"},\"colorscale\":[[0.0,\"#0d0887\"],[0.1111111111111111,\"#46039f\"],[0.2222222222222222,\"#7201a8\"],[0.3333333333333333,\"#9c179e\"],[0.4444444444444444,\"#bd3786\"],[0.5555555555555556,\"#d8576b\"],[0.6666666666666666,\"#ed7953\"],[0.7777777777777778,\"#fb9f3a\"],[0.8888888888888888,\"#fdca26\"],[1.0,\"#f0f921\"]],\"type\":\"contour\"}],\"contourcarpet\":[{\"colorbar\":{\"outlinewidth\":0,\"ticks\":\"\"},\"type\":\"contourcarpet\"}],\"heatmap\":[{\"colorbar\":{\"outlinewidth\":0,\"ticks\":\"\"},\"colorscale\":[[0.0,\"#0d0887\"],[0.1111111111111111,\"#46039f\"],[0.2222222222222222,\"#7201a8\"],[0.3333333333333333,\"#9c179e\"],[0.4444444444444444,\"#bd3786\"],[0.5555555555555556,\"#d8576b\"],[0.6666666666666666,\"#ed7953\"],[0.7777777777777778,\"#fb9f3a\"],[0.8888888888888888,\"#fdca26\"],[1.0,\"#f0f921\"]],\"type\":\"heatmap\"}],\"heatmapgl\":[{\"colorbar\":{\"outlinewidth\":0,\"ticks\":\"\"},\"colorscale\":[[0.0,\"#0d0887\"],[0.1111111111111111,\"#46039f\"],[0.2222222222222222,\"#7201a8\"],[0.3333333333333333,\"#9c179e\"],[0.4444444444444444,\"#bd3786\"],[0.5555555555555556,\"#d8576b\"],[0.6666666666666666,\"#ed7953\"],[0.7777777777777778,\"#fb9f3a\"],[0.8888888888888888,\"#fdca26\"],[1.0,\"#f0f921\"]],\"type\":\"heatmapgl\"}],\"histogram\":[{\"marker\":{\"pattern\":{\"fillmode\":\"overlay\",\"size\":10,\"solidity\":0.2}},\"type\":\"histogram\"}],\"histogram2d\":[{\"colorbar\":{\"outlinewidth\":0,\"ticks\":\"\"},\"colorscale\":[[0.0,\"#0d0887\"],[0.1111111111111111,\"#46039f\"],[0.2222222222222222,\"#7201a8\"],[0.3333333333333333,\"#9c179e\"],[0.4444444444444444,\"#bd3786\"],[0.5555555555555556,\"#d8576b\"],[0.6666666666666666,\"#ed7953\"],[0.7777777777777778,\"#fb9f3a\"],[0.8888888888888888,\"#fdca26\"],[1.0,\"#f0f921\"]],\"type\":\"histogram2d\"}],\"histogram2dcontour\":[{\"colorbar\":{\"outlinewidth\":0,\"ticks\":\"\"},\"colorscale\":[[0.0,\"#0d0887\"],[0.1111111111111111,\"#46039f\"],[0.2222222222222222,\"#7201a8\"],[0.3333333333333333,\"#9c179e\"],[0.4444444444444444,\"#bd3786\"],[0.5555555555555556,\"#d8576b\"],[0.6666666666666666,\"#ed7953\"],[0.7777777777777778,\"#fb9f3a\"],[0.8888888888888888,\"#fdca26\"],[1.0,\"#f0f921\"]],\"type\":\"histogram2dcontour\"}],\"mesh3d\":[{\"colorbar\":{\"outlinewidth\":0,\"ticks\":\"\"},\"type\":\"mesh3d\"}],\"parcoords\":[{\"line\":{\"colorbar\":{\"outlinewidth\":0,\"ticks\":\"\"}},\"type\":\"parcoords\"}],\"pie\":[{\"automargin\":true,\"type\":\"pie\"}],\"scatter\":[{\"marker\":{\"colorbar\":{\"outlinewidth\":0,\"ticks\":\"\"}},\"type\":\"scatter\"}],\"scatter3d\":[{\"line\":{\"colorbar\":{\"outlinewidth\":0,\"ticks\":\"\"}},\"marker\":{\"colorbar\":{\"outlinewidth\":0,\"ticks\":\"\"}},\"type\":\"scatter3d\"}],\"scattercarpet\":[{\"marker\":{\"colorbar\":{\"outlinewidth\":0,\"ticks\":\"\"}},\"type\":\"scattercarpet\"}],\"scattergeo\":[{\"marker\":{\"colorbar\":{\"outlinewidth\":0,\"ticks\":\"\"}},\"type\":\"scattergeo\"}],\"scattergl\":[{\"marker\":{\"colorbar\":{\"outlinewidth\":0,\"ticks\":\"\"}},\"type\":\"scattergl\"}],\"scattermapbox\":[{\"marker\":{\"colorbar\":{\"outlinewidth\":0,\"ticks\":\"\"}},\"type\":\"scattermapbox\"}],\"scatterpolar\":[{\"marker\":{\"colorbar\":{\"outlinewidth\":0,\"ticks\":\"\"}},\"type\":\"scatterpolar\"}],\"scatterpolargl\":[{\"marker\":{\"colorbar\":{\"outlinewidth\":0,\"ticks\":\"\"}},\"type\":\"scatterpolargl\"}],\"scatterternary\":[{\"marker\":{\"colorbar\":{\"outlinewidth\":0,\"ticks\":\"\"}},\"type\":\"scatterternary\"}],\"surface\":[{\"colorbar\":{\"outlinewidth\":0,\"ticks\":\"\"},\"colorscale\":[[0.0,\"#0d0887\"],[0.1111111111111111,\"#46039f\"],[0.2222222222222222,\"#7201a8\"],[0.3333333333333333,\"#9c179e\"],[0.4444444444444444,\"#bd3786\"],[0.5555555555555556,\"#d8576b\"],[0.6666666666666666,\"#ed7953\"],[0.7777777777777778,\"#fb9f3a\"],[0.8888888888888888,\"#fdca26\"],[1.0,\"#f0f921\"]],\"type\":\"surface\"}],\"table\":[{\"cells\":{\"fill\":{\"color\":\"#EBF0F8\"},\"line\":{\"color\":\"white\"}},\"header\":{\"fill\":{\"color\":\"#C8D4E3\"},\"line\":{\"color\":\"white\"}},\"type\":\"table\"}]},\"layout\":{\"annotationdefaults\":{\"arrowcolor\":\"#2a3f5f\",\"arrowhead\":0,\"arrowwidth\":1},\"autotypenumbers\":\"strict\",\"coloraxis\":{\"colorbar\":{\"outlinewidth\":0,\"ticks\":\"\"}},\"colorscale\":{\"diverging\":[[0,\"#8e0152\"],[0.1,\"#c51b7d\"],[0.2,\"#de77ae\"],[0.3,\"#f1b6da\"],[0.4,\"#fde0ef\"],[0.5,\"#f7f7f7\"],[0.6,\"#e6f5d0\"],[0.7,\"#b8e186\"],[0.8,\"#7fbc41\"],[0.9,\"#4d9221\"],[1,\"#276419\"]],\"sequential\":[[0.0,\"#0d0887\"],[0.1111111111111111,\"#46039f\"],[0.2222222222222222,\"#7201a8\"],[0.3333333333333333,\"#9c179e\"],[0.4444444444444444,\"#bd3786\"],[0.5555555555555556,\"#d8576b\"],[0.6666666666666666,\"#ed7953\"],[0.7777777777777778,\"#fb9f3a\"],[0.8888888888888888,\"#fdca26\"],[1.0,\"#f0f921\"]],\"sequentialminus\":[[0.0,\"#0d0887\"],[0.1111111111111111,\"#46039f\"],[0.2222222222222222,\"#7201a8\"],[0.3333333333333333,\"#9c179e\"],[0.4444444444444444,\"#bd3786\"],[0.5555555555555556,\"#d8576b\"],[0.6666666666666666,\"#ed7953\"],[0.7777777777777778,\"#fb9f3a\"],[0.8888888888888888,\"#fdca26\"],[1.0,\"#f0f921\"]]},\"colorway\":[\"#636efa\",\"#EF553B\",\"#00cc96\",\"#ab63fa\",\"#FFA15A\",\"#19d3f3\",\"#FF6692\",\"#B6E880\",\"#FF97FF\",\"#FECB52\"],\"font\":{\"color\":\"#2a3f5f\"},\"geo\":{\"bgcolor\":\"white\",\"lakecolor\":\"white\",\"landcolor\":\"#E5ECF6\",\"showlakes\":true,\"showland\":true,\"subunitcolor\":\"white\"},\"hoverlabel\":{\"align\":\"left\"},\"hovermode\":\"closest\",\"mapbox\":{\"style\":\"light\"},\"paper_bgcolor\":\"white\",\"plot_bgcolor\":\"#E5ECF6\",\"polar\":{\"angularaxis\":{\"gridcolor\":\"white\",\"linecolor\":\"white\",\"ticks\":\"\"},\"bgcolor\":\"#E5ECF6\",\"radialaxis\":{\"gridcolor\":\"white\",\"linecolor\":\"white\",\"ticks\":\"\"}},\"scene\":{\"xaxis\":{\"backgroundcolor\":\"#E5ECF6\",\"gridcolor\":\"white\",\"gridwidth\":2,\"linecolor\":\"white\",\"showbackground\":true,\"ticks\":\"\",\"zerolinecolor\":\"white\"},\"yaxis\":{\"backgroundcolor\":\"#E5ECF6\",\"gridcolor\":\"white\",\"gridwidth\":2,\"linecolor\":\"white\",\"showbackground\":true,\"ticks\":\"\",\"zerolinecolor\":\"white\"},\"zaxis\":{\"backgroundcolor\":\"#E5ECF6\",\"gridcolor\":\"white\",\"gridwidth\":2,\"linecolor\":\"white\",\"showbackground\":true,\"ticks\":\"\",\"zerolinecolor\":\"white\"}},\"shapedefaults\":{\"line\":{\"color\":\"#2a3f5f\"}},\"ternary\":{\"aaxis\":{\"gridcolor\":\"white\",\"linecolor\":\"white\",\"ticks\":\"\"},\"baxis\":{\"gridcolor\":\"white\",\"linecolor\":\"white\",\"ticks\":\"\"},\"bgcolor\":\"#E5ECF6\",\"caxis\":{\"gridcolor\":\"white\",\"linecolor\":\"white\",\"ticks\":\"\"}},\"title\":{\"x\":0.05},\"xaxis\":{\"automargin\":true,\"gridcolor\":\"white\",\"linecolor\":\"white\",\"ticks\":\"\",\"title\":{\"standoff\":15},\"zerolinecolor\":\"white\",\"zerolinewidth\":2},\"yaxis\":{\"automargin\":true,\"gridcolor\":\"white\",\"linecolor\":\"white\",\"ticks\":\"\",\"title\":{\"standoff\":15},\"zerolinecolor\":\"white\",\"zerolinewidth\":2}}},\"xaxis\":{\"anchor\":\"y\",\"domain\":[0.0,1.0],\"title\":{\"text\":\"acousticness\"}},\"yaxis\":{\"anchor\":\"x\",\"domain\":[0.0,1.0],\"title\":{\"text\":\"valence\"}}},                        {\"responsive\": true}                    ).then(function(){\n",
       "                            \n",
       "var gd = document.getElementById('a0ddbfe5-94bf-4b39-bb11-195a54ea4ee7');\n",
       "var x = new MutationObserver(function (mutations, observer) {{\n",
       "        var display = window.getComputedStyle(gd).display;\n",
       "        if (!display || display === 'none') {{\n",
       "            console.log([gd, 'removed!']);\n",
       "            Plotly.purge(gd);\n",
       "            observer.disconnect();\n",
       "        }}\n",
       "}});\n",
       "\n",
       "// Listen for the removal of the full notebook cells\n",
       "var notebookContainer = gd.closest('#notebook-container');\n",
       "if (notebookContainer) {{\n",
       "    x.observe(notebookContainer, {childList: true});\n",
       "}}\n",
       "\n",
       "// Listen for the clearing of the current output cell\n",
       "var outputEl = gd.closest('.output');\n",
       "if (outputEl) {{\n",
       "    x.observe(outputEl, {childList: true});\n",
       "}}\n",
       "\n",
       "                        })                };                });            </script>        </div>"
      ]
     },
     "metadata": {},
     "output_type": "display_data"
    }
   ],
   "source": [
    "\"\"\"Esse gráfico mostra o quão um dado pode ou não estar contido nas features do outro.\"\"\"\n",
    "\n",
    "import plotly.express as px\n",
    "\n",
    "fig = px.scatter(DF_2, x='acousticness', y=\"valence\")\n",
    "fig.add_hline(y=0.9)\n",
    "fig.add_vrect(x0=0.9, x1=2)\n",
    "fig.show()"
   ]
  }
 ],
 "metadata": {
  "colab": {
   "collapsed_sections": [],
   "name": "Spotify.ipynb",
   "provenance": []
  },
  "kernelspec": {
   "display_name": "Python 3",
   "language": "python",
   "name": "python3"
  },
  "language_info": {
   "codemirror_mode": {
    "name": "ipython",
    "version": 3
   },
   "file_extension": ".py",
   "mimetype": "text/x-python",
   "name": "python",
   "nbconvert_exporter": "python",
   "pygments_lexer": "ipython3",
   "version": "3.8.8"
  }
 },
 "nbformat": 4,
 "nbformat_minor": 1
}
